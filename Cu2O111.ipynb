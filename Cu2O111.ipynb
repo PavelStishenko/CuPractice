{
 "cells": [
  {
   "cell_type": "code",
   "execution_count": 2,
   "id": "cc07ec3d-7199-4e0b-9918-78b652236ae0",
   "metadata": {},
   "outputs": [
    {
     "name": "stdout",
     "output_type": "stream",
     "text": [
      "Using Materials Project MACE for MACECalculator with /home/lana/.cache/mace/5yyxdm76\n",
      "Using float64 for MACECalculator, which is slower but more accurate. Recommended for geometry optimization.\n",
      "       Step     Time          Energy         fmax\n",
      "*Force-consistent energies used in optimization.\n",
      "LBFGS:    0 13:04:52      -28.749845*       0.0015\n"
     ]
    },
    {
     "data": {
      "text/plain": [
       "<Popen: returncode: None args: ['/home/lana/ve/bin/python3', '-m', 'ase', 'g...>"
      ]
     },
     "execution_count": 2,
     "metadata": {},
     "output_type": "execute_result"
    }
   ],
   "source": [
    "from ase.io import read, write\n",
    "from mace.calculators import mace_mp\n",
    "from ase.build import surface\n",
    "from ase.visualize import view\n",
    "from ase.constraints import FixAtoms, UnitCellFilter\n",
    "from ase.build import bulk\n",
    "import numpy as np\n",
    "from ase.optimize import LBFGS\n",
    "\n",
    "x = read('/home/lana/Downloads/9007497.cif')\n",
    "x.calc = mace_mp(model=\"medium\", dispersion=False, default_dtype=\"float64\", device='cpu')\n",
    "ucf = UnitCellFilter(x)\n",
    "qn = LBFGS(ucf, trajectory='bulk_rlx.traj')\n",
    "qn.run(fmax=0.01)\n",
    "E_x = x.get_potential_energy()\n",
    "t = read('bulk_rlx.traj@:')\n",
    "view(t)"
   ]
  },
  {
   "cell_type": "code",
   "execution_count": 3,
   "id": "505d8257-38fa-4ad0-a9fe-5b6ab5b2694a",
   "metadata": {},
   "outputs": [
    {
     "name": "stdout",
     "output_type": "stream",
     "text": [
      "Using Materials Project MACE for MACECalculator with /home/lana/.cache/mace/5yyxdm76\n",
      "Using float64 for MACECalculator, which is slower but more accurate. Recommended for geometry optimization.\n",
      "Using Materials Project MACE for MACECalculator with /home/lana/.cache/mace/5yyxdm76\n",
      "Using float64 for MACECalculator, which is slower but more accurate. Recommended for geometry optimization.\n",
      "n_layers=3 E_cleav=0.17398570840805258\n",
      "       Step     Time          Energy         fmax\n",
      "*Force-consistent energies used in optimization.\n",
      "LBFGS:    0 16:15:41      -75.208887*       0.8238\n",
      "LBFGS:    1 16:15:42      -75.246656*       0.5950\n",
      "LBFGS:    2 16:15:42      -75.304191*       0.3806\n",
      "LBFGS:    3 16:15:42      -75.317210*       0.3759\n",
      "LBFGS:    4 16:15:43      -75.340498*       0.3234\n",
      "LBFGS:    5 16:15:43      -75.354143*       0.3831\n",
      "LBFGS:    6 16:15:43      -75.365675*       0.3465\n",
      "LBFGS:    7 16:15:44      -75.373914*       0.3287\n",
      "LBFGS:    8 16:15:44      -75.380383*       0.3003\n",
      "LBFGS:    9 16:15:44      -75.388221*       0.3329\n",
      "LBFGS:   10 16:15:45      -75.394567*       0.2425\n",
      "LBFGS:   11 16:15:45      -75.401317*       0.2640\n",
      "LBFGS:   12 16:15:45      -75.409831*       0.2501\n",
      "LBFGS:   13 16:15:46      -75.416917*       0.2564\n",
      "LBFGS:   14 16:15:46      -75.421593*       0.2397\n",
      "LBFGS:   15 16:15:46      -75.425401*       0.1506\n",
      "LBFGS:   16 16:15:47      -75.427786*       0.1041\n",
      "LBFGS:   17 16:15:47      -75.428839*       0.0836\n",
      "LBFGS:   18 16:15:47      -75.429519*       0.0667\n",
      "LBFGS:   19 16:15:48      -75.430230*       0.0638\n",
      "LBFGS:   20 16:15:48      -75.431420*       0.0893\n",
      "LBFGS:   21 16:15:48      -75.432514*       0.0869\n",
      "LBFGS:   22 16:15:49      -75.433076*       0.0696\n",
      "LBFGS:   23 16:15:49      -75.433308*       0.0552\n",
      "LBFGS:   24 16:15:49      -75.433513*       0.0500\n",
      "LBFGS:   25 16:15:49      -75.433787*       0.0791\n",
      "LBFGS:   26 16:15:50      -75.434080*       0.0787\n",
      "LBFGS:   27 16:15:50      -75.434257*       0.0422\n",
      "LBFGS:   28 16:15:50      -75.434309*       0.0152\n",
      "LBFGS:   29 16:15:51      -75.434322*       0.0130\n",
      "LBFGS:   30 16:15:51      -75.434334*       0.0139\n",
      "LBFGS:   31 16:15:51      -75.434351*       0.0192\n",
      "LBFGS:   32 16:15:52      -75.434374*       0.0189\n",
      "LBFGS:   33 16:15:52      -75.434395*       0.0111\n",
      "LBFGS:   34 16:15:52      -75.434404*       0.0040\n",
      "n_layers=3 E_surf=0.17043187515573618\n"
     ]
    },
    {
     "name": "stderr",
     "output_type": "stream",
     "text": [
      "Traceback (most recent call last):\n",
      "  File \"<frozen runpy>\", line 198, in _run_module_as_main\n",
      "  File \"<frozen runpy>\", line 88, in _run_code\n",
      "  File \"/home/lana/ve/lib64/python3.11/site-packages/ase/gui/pipe.py\", line 32, in <module>\n",
      "    main()\n",
      "  File \"/home/lana/ve/lib64/python3.11/site-packages/ase/gui/pipe.py\", line 28, in main\n",
      "    plt.show()\n",
      "  File \"/home/lana/ve/lib64/python3.11/site-packages/matplotlib/pyplot.py\", line 607, in show\n",
      "    return _get_backend_mod().show(*args, **kwargs)\n",
      "           ^^^^^^^^^^^^^^^^^^^^^^^^^^^^^^^^^^^^^^^^\n",
      "  File \"/home/lana/ve/lib64/python3.11/site-packages/matplotlib_inline/backend_inline.py\", line 90, in show\n",
      "    display(\n",
      "  File \"/home/lana/ve/lib64/python3.11/site-packages/IPython/core/display_functions.py\", line 265, in display\n",
      "    print(*objs)\n",
      "ValueError: I/O operation on closed file.\n"
     ]
    }
   ],
   "source": [
    "from ase import Atoms\n",
    "from mace.calculators import mace_mp\n",
    "from ase.build import surface\n",
    "from ase.constraints import FixAtoms, UnitCellFilter\n",
    "from ase.optimize import QuasiNewton\n",
    "from ase.visualize import view\n",
    "from ase.io import read, write\n",
    "from ase.optimize import LBFGS\n",
    "import numpy as np\n",
    "from cu2o_bulk import cu2o_bulk, cu2o111\n",
    "\n",
    "b = cu2o_bulk()\n",
    "b.calc = mace_mp(model=\"medium\", dispersion=False, default_dtype=\"float64\", device='cpu')\n",
    "E_bulk = b.get_potential_energy()\n",
    "\n",
    "n_layers=3\n",
    "vacuum=10\n",
    "slab = cu2o111(n_layers, vacuum)\n",
    "slab.calc = mace_mp(model=\"medium\", dispersion=False, default_dtype=\"float64\", device='cpu')\n",
    "#view(slab)\n",
    "\n",
    "E_slab = slab.get_potential_energy()\n",
    "E_cleav = (E_slab - E_bulk * n_layers) / 2 / np.linalg.det(slab.cell[:2, :2])\n",
    "print(f'{n_layers=} {E_cleav=}')\n",
    "\n",
    "bottom_Cu_z = np.min(slab[slab.symbols=='Cu'].positions[:,2])\n",
    "mask1=slab.positions[:, 2] < bottom_Cu_z + 1.0\n",
    "slab.set_constraint(FixAtoms(mask=mask1))\n",
    "\n",
    "qn = LBFGS(slab, trajectory='111slab.traj')\n",
    "qn.run(fmax=0.01)\n",
    "E_slab = slab.get_potential_energy()\n",
    "t = read('111slab.traj@:')\n",
    "view(t)\n",
    "\n",
    "\n",
    "E_surf = (E_slab - E_bulk * n_layers) / 2 / np.linalg.det(slab.cell[:2, :2])\n",
    "print(f'{n_layers=} {E_surf=}')\n"
   ]
  },
  {
   "cell_type": "code",
   "execution_count": null,
   "id": "454d8cfb-9139-43fb-baef-e753faedbee9",
   "metadata": {},
   "outputs": [],
   "source": []
  }
 ],
 "metadata": {
  "kernelspec": {
   "display_name": "Python 3 (ipykernel)",
   "language": "python",
   "name": "python3"
  },
  "language_info": {
   "codemirror_mode": {
    "name": "ipython",
    "version": 3
   },
   "file_extension": ".py",
   "mimetype": "text/x-python",
   "name": "python",
   "nbconvert_exporter": "python",
   "pygments_lexer": "ipython3",
   "version": "3.11.9"
  }
 },
 "nbformat": 4,
 "nbformat_minor": 5
}
