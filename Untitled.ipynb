{
 "cells": [
  {
   "cell_type": "code",
   "execution_count": 2,
   "id": "160d5202-142a-46a3-bea6-2eb5f9479411",
   "metadata": {},
   "outputs": [
    {
     "ename": "ModuleNotFoundError",
     "evalue": "No module named 'cu2o_bulk'",
     "output_type": "error",
     "traceback": [
      "\u001b[0;31m---------------------------------------------------------------------------\u001b[0m",
      "\u001b[0;31mModuleNotFoundError\u001b[0m                       Traceback (most recent call last)",
      "Cell \u001b[0;32mIn[2], line 13\u001b[0m\n\u001b[1;32m     11\u001b[0m \u001b[38;5;28;01mimport\u001b[39;00m \u001b[38;5;21;01mpandas\u001b[39;00m \u001b[38;5;28;01mas\u001b[39;00m \u001b[38;5;21;01mpd\u001b[39;00m\n\u001b[1;32m     12\u001b[0m \u001b[38;5;28;01mfrom\u001b[39;00m \u001b[38;5;21;01mtabulate\u001b[39;00m \u001b[38;5;28;01mimport\u001b[39;00m tabulate\n\u001b[0;32m---> 13\u001b[0m \u001b[38;5;28;01mfrom\u001b[39;00m \u001b[38;5;21;01mcu2o_bulk\u001b[39;00m\u001b[38;5;21;01m.\u001b[39;00m\u001b[38;5;21;01mpy\u001b[39;00m \u001b[38;5;28;01mimport\u001b[39;00m cu2o_bulk,cu2o111, Cuterm1x1, STNO3\n\u001b[1;32m     15\u001b[0m bulk\u001b[38;5;241m=\u001b[39m cu2o_bulk()\n\u001b[1;32m     17\u001b[0m slab\u001b[38;5;241m=\u001b[39mSTNO3()\n",
      "\u001b[0;31mModuleNotFoundError\u001b[0m: No module named 'cu2o_bulk'"
     ]
    }
   ],
   "source": [
    "from ase import Atoms\n",
    "from mace.calculators import mace_mp\n",
    "from ase.build import surface\n",
    "from ase.constraints import FixAtoms, UnitCellFilter\n",
    "from ase.optimize import QuasiNewton\n",
    "from ase.visualize import view\n",
    "from ase.io import read, write\n",
    "from ase.optimize import LBFGS\n",
    "import numpy as np\n",
    "from ase.build.supercells import make_supercell\n",
    "import pandas as pd\n",
    "from tabulate import tabulate\n",
    "from cu2o_bulk.py import cu2o_bulk,cu2o111, Cuterm1x1, STNO3\n",
    "\n",
    "bulk= cu2o_bulk()\n",
    "\n",
    "slab=STNO3()\n",
    "view(slab)"
   ]
  }
 ],
 "metadata": {
  "kernelspec": {
   "display_name": "Python 3 (ipykernel)",
   "language": "python",
   "name": "python3"
  },
  "language_info": {
   "codemirror_mode": {
    "name": "ipython",
    "version": 3
   },
   "file_extension": ".py",
   "mimetype": "text/x-python",
   "name": "python",
   "nbconvert_exporter": "python",
   "pygments_lexer": "ipython3",
   "version": "3.11.9"
  }
 },
 "nbformat": 4,
 "nbformat_minor": 5
}
