{
 "cells": [
  {
   "cell_type": "code",
   "execution_count": 7,
   "id": "505d8257-38fa-4ad0-a9fe-5b6ab5b2694a",
   "metadata": {},
   "outputs": [
    {
     "name": "stdout",
     "output_type": "stream",
     "text": [
      "Using Materials Project MACE for MACECalculator with /home/lana/.cache/mace/5yyxdm76\n",
      "Using float64 for MACECalculator, which is slower but more accurate. Recommended for geometry optimization.\n",
      "Using TorchDFTD3Calculator for D3 dispersion corrections (see https://github.com/pfnet-research/torch-dftd)\n",
      "       Step     Time          Energy         fmax\n",
      "LBFGS:    0 13:33:06      -30.569296        0.3076\n",
      "LBFGS:    1 13:33:06      -30.573217        0.2874\n",
      "LBFGS:    2 13:33:07      -30.598950        0.0247\n",
      "LBFGS:    3 13:33:07      -30.599045        0.0017\n",
      "Number of Oxygen atoms in bulk: 2\n"
     ]
    },
    {
     "data": {
      "text/plain": [
       "'\\n\\nn_layers = { 3,4,5,6,7,8,9,10}\\nCu2Otable={}\\n\\nn_layers_list=[]\\nslab_oxygens_list=[]\\nE_surf_list=[]\\n\\nfor n_layers in range(3,11):\\n  vacuum=10\\n  slab = cu2o111(bulk, n_layers, vacuum)\\n  #write(\\'slab.xyz\\', slab)\\n  slab_oxygens = slab[slab.symbols==\\'O\\']\\n  Cu2Otable[n_layers]=len(slab_oxygens)\\n  print(f\"Number of Oxygen atoms in slab: {len(slab_oxygens)}\")\\n\\n  slab.calc = mace_mp(model=\"large\", dispersion=True, default_dtype=\"float64\", device=\\'cuda\\')\\n  E_slab = slab.get_potential_energy()\\n  E_cleav = (E_slab - E_bulk * n_layers) / 2 / np.linalg.det(slab.cell[:2, :2])\\n  print(f\\'{n_layers=} {E_cleav=}\\')\\n\\n  qn = LBFGS(slab, trajectory=\\'Cu2O111.traj\\')\\n  #write(\\'Cu2O111.traj\\', slab)\\n  qn.run(fmax=0.01)\\n  E_slab = slab.get_potential_energy()\\n  #t = read(\\'Cu2O111.traj\\')\\n  #view(t)\\n\\n  ##Calc Surface Energy\\n  E_surf = (E_slab - E_bulk * n_layers) / 2 / np.linalg.det(slab.cell[:2, :2])\\n  print(f\\'{n_layers=} {E_surf=}\\')\\n\\n  n_layers_list.append(n_layers)\\n  slab_oxygens_list.append(len(slab_oxygens))\\n  E_surf_list.append(E_surf)\\n\\ndf = pd.DataFrame({\\'Number of Layers\\': n_layers_list, \\'Number of Oxygen Atoms\\':slab_oxygens_list, \\'Surface Energy\\': E_surf_list})\\ntable=tabulate(df, headers = \\'keys\\', tablefmt = \\'fancy_grid\\')\\ndf.to_csv(\\'Cu2O111.csv\\', index=False)\\nprint(table)\\n\\n\\n#Fixing bottom layer, replicating bulk\\n#bottom_Cu_z = np.min(slab[slab.symbols==\\'Cu\\'].positions[:,2])\\n#mask1=slab.positions[:, 2] < bottom_Cu_z + 1.0\\n#slab.set_constraint(FixAtoms(mask=mask1))\\n\\n'"
      ]
     },
     "execution_count": 7,
     "metadata": {},
     "output_type": "execute_result"
    }
   ],
   "source": [
    "from ase import Atoms\n",
    "from mace.calculators import mace_mp\n",
    "from ase.build import surface\n",
    "from ase.constraints import FixAtoms, UnitCellFilter\n",
    "from ase.optimize import QuasiNewton\n",
    "from ase.visualize import view\n",
    "from ase.io import read, write\n",
    "from ase.optimize import LBFGS\n",
    "import numpy as np\n",
    "import pandas as pd\n",
    "from tabulate import tabulate\n",
    "from cu2o_bulk import cu2o_bulk, cu2o111\n",
    "\n",
    "bulk = cu2o_bulk()\n",
    "bulk.calc = mace_mp(model=\"medium\", dispersion=True, default_dtype=\"float64\", device='cpu')\n",
    "ucf = UnitCellFilter(bulk)\n",
    "LBFGS(ucf).run(fmax=0.01)\n",
    "E_bulk = bulk.get_potential_energy()\n",
    "bulk_oxygens = bulk[bulk.symbols=='O']\n",
    "print(f\"Number of Oxygen atoms in bulk: {len(bulk_oxygens)}\")\n",
    "view(bulk)\n",
    "#write('bulk.xyz', bulk)\n",
    "\n",
    "#n_layers=3\n",
    "#vacuum=10\n",
    "#slab = cu2o111(bulk, n_layers, vacuum)\n",
    "#view(slab)\n",
    "'''\n",
    "\n",
    "n_layers = { 3,4,5,6,7,8,9,10}\n",
    "Cu2Otable={}\n",
    "\n",
    "n_layers_list=[]\n",
    "slab_oxygens_list=[]\n",
    "E_surf_list=[]\n",
    "\n",
    "for n_layers in range(3,11):\n",
    "  vacuum=10\n",
    "  slab = cu2o111(bulk, n_layers, vacuum)\n",
    "  #write('slab.xyz', slab)\n",
    "  slab_oxygens = slab[slab.symbols=='O']\n",
    "  Cu2Otable[n_layers]=len(slab_oxygens)\n",
    "  print(f\"Number of Oxygen atoms in slab: {len(slab_oxygens)}\")\n",
    "\n",
    "  slab.calc = mace_mp(model=\"large\", dispersion=True, default_dtype=\"float64\", device='cuda')\n",
    "  E_slab = slab.get_potential_energy()\n",
    "  E_cleav = (E_slab - E_bulk * n_layers) / 2 / np.linalg.det(slab.cell[:2, :2])\n",
    "  print(f'{n_layers=} {E_cleav=}')\n",
    "\n",
    "  qn = LBFGS(slab, trajectory='Cu2O111.traj')\n",
    "  #write('Cu2O111.traj', slab)\n",
    "  qn.run(fmax=0.01)\n",
    "  E_slab = slab.get_potential_energy()\n",
    "  #t = read('Cu2O111.traj')\n",
    "  #view(t)\n",
    "\n",
    "  ##Calc Surface Energy\n",
    "  E_surf = (E_slab - E_bulk * n_layers) / 2 / np.linalg.det(slab.cell[:2, :2])\n",
    "  print(f'{n_layers=} {E_surf=}')\n",
    "\n",
    "  n_layers_list.append(n_layers)\n",
    "  slab_oxygens_list.append(len(slab_oxygens))\n",
    "  E_surf_list.append(E_surf)\n",
    "\n",
    "df = pd.DataFrame({'Number of Layers': n_layers_list, 'Number of Oxygen Atoms':slab_oxygens_list, 'Surface Energy': E_surf_list})\n",
    "table=tabulate(df, headers = 'keys', tablefmt = 'fancy_grid')\n",
    "df.to_csv('Cu2O111.csv', index=False)\n",
    "print(table)\n",
    "\n",
    "\n",
    "#Fixing bottom layer, replicating bulk\n",
    "#bottom_Cu_z = np.min(slab[slab.symbols=='Cu'].positions[:,2])\n",
    "#mask1=slab.positions[:, 2] < bottom_Cu_z + 1.0\n",
    "#slab.set_constraint(FixAtoms(mask=mask1))\n",
    "\n",
    "'''"
   ]
  },
  {
   "cell_type": "code",
   "execution_count": null,
   "id": "454d8cfb-9139-43fb-baef-e753faedbee9",
   "metadata": {},
   "outputs": [],
   "source": []
  }
 ],
 "metadata": {
  "kernelspec": {
   "display_name": "Python 3 (ipykernel)",
   "language": "python",
   "name": "python3"
  },
  "language_info": {
   "codemirror_mode": {
    "name": "ipython",
    "version": 3
   },
   "file_extension": ".py",
   "mimetype": "text/x-python",
   "name": "python",
   "nbconvert_exporter": "python",
   "pygments_lexer": "ipython3",
   "version": "3.11.9"
  }
 },
 "nbformat": 4,
 "nbformat_minor": 5
}
