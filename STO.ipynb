{
 "cells": [
  {
   "cell_type": "code",
   "execution_count": 4,
   "id": "505d8257-38fa-4ad0-a9fe-5b6ab5b2694a",
   "metadata": {},
   "outputs": [
    {
     "name": "stdout",
     "output_type": "stream",
     "text": [
      "16\n"
     ]
    },
    {
     "data": {
      "text/plain": [
       "\"\\nE_slab = slab.get_potential_energy()\\nE_cleav = (E_slab - E_bulk * n_layers) / 2 / np.linalg.det(slab.cell[:2, :2])\\nprint(f'{n_layers=} {E_cleav=}')\\n\\nbottom_Cu_z = np.min(slab[slab.symbols=='Cu'].positions[:,2])\\nmask1=slab.positions[:, 2] < bottom_Cu_z + 1.0\\nslab.set_constraint(FixAtoms(mask=mask1))\\n\\nqn = LBFGS(slab, trajectory='111slab.traj')\\nqn.run(fmax=0.01)\\nE_slab = slab.get_potential_energy()\\nt = read('111slab.traj@:')\\natoms = t[-1]\\nview(atoms)\\n\\nE_surf = (E_slab - E_bulk * n_layers) / 2 / np.linalg.det(slab.cell[:2, :2])\\nprint(f'{n_layers=} {E_surf=}')\\n\""
      ]
     },
     "execution_count": 4,
     "metadata": {},
     "output_type": "execute_result"
    }
   ],
   "source": [
    "from ase import Atoms\n",
    "from mace.calculators import mace_mp\n",
    "from ase.build import surface\n",
    "from ase.constraints import FixAtoms, UnitCellFilter\n",
    "from ase.optimize import QuasiNewton\n",
    "from ase.visualize import view\n",
    "from ase.io import read, write\n",
    "from ase.optimize import LBFGS\n",
    "import numpy as np\n",
    "import pandas as pd\n",
    "from tabulate import tabulate\n",
    "from cu2o_bulk import cu2o_bulk, cu2o111, STO_FCC111\n",
    "\n",
    "bulk = cu2o_bulk()\n",
    "bulk.calc = mace_mp(model=\"large\", dispersion=True, default_dtype=\"float64\", device='cuda')\n",
    "ucf = UnitCellFilter(bulk)\n",
    "LBFGS(ucf).run(fmax=0.01)\n",
    "E_bulk = bulk.get_potential_energy()\n",
    "bulk_oxygens = bulk[bulk.symbols=='O']\n",
    "print(f\"Number of Oxygen atoms in bulk: {len(bulk_oxygens)}\")\n",
    "#write('bulk.xyz', bulk)\n",
    "\n",
    "n_layers = { 3,4,5,6,7,8,9,10}\n",
    "Cu2Otable={}\n",
    "\n",
    "n_layers_list=[]\n",
    "slab_oxygens_list=[]\n",
    "E_surf_list=[]\n",
    "\n",
    "\n",
    "for n_layers in range(3,11):\n",
    "  vacuum=10\n",
    "  slab = STO_FCC111(bulk, n_layers, vacuum)\n",
    "  #write('slab.xyz', slab)\n",
    "  slab_oxygens = slab[slab.symbols=='O']\n",
    "  Cu2Otable[n_layers]=len(slab_oxygens)\n",
    "  print(f\"Number of Oxygen atoms in slab: {len(slab_oxygens)}\")\n",
    "\n",
    "  slab.calc = mace_mp(model=\"large\", dispersion=True, default_dtype=\"float64\", device='cuda')\n",
    "  E_slab = slab.get_potential_energy()\n",
    "  E_cleav = (E_slab - E_bulk * n_layers) / 2 / np.linalg.det(slab.cell[:2, :2])\n",
    "  print(f'{n_layers=} {E_cleav=}')\n",
    "\n",
    "  qn = LBFGS(slab, trajectory='STO_FCC111.traj')\n",
    "  qn.run(fmax=0.01)\n",
    "  E_slab = slab.get_potential_energy()\n",
    "\n",
    "  ##Calc Surface Energy\n",
    "  E_surf = (E_slab - E_bulk * n_layers) / 2 / np.linalg.det(slab.cell[:2, :2])\n",
    "  print(f'{n_layers=} {E_surf=}')\n",
    "\n",
    "  n_layers_list.append(n_layers)\n",
    "  slab_oxygens_list.append(len(slab_oxygens))\n",
    "  E_surf_list.append(E_surf)\n",
    "\n",
    "df = pd.DataFrame({'Number of Layers': n_layers_list, 'Number of Oxygen Atoms':slab_oxygens_list, 'Surface Energy': E_surf_list})\n",
    "table=tabulate(df, headers = 'keys', tablefmt = 'fancy_grid')\n",
    "df.to_csv('STO_FCC111.csv', index=False)\n",
    "print(table)"
   ]
  },
  {
   "cell_type": "code",
   "execution_count": null,
   "id": "454d8cfb-9139-43fb-baef-e753faedbee9",
   "metadata": {},
   "outputs": [],
   "source": []
  }
 ],
 "metadata": {
  "kernelspec": {
   "display_name": "Python 3 (ipykernel)",
   "language": "python",
   "name": "python3"
  },
  "language_info": {
   "codemirror_mode": {
    "name": "ipython",
    "version": 3
   },
   "file_extension": ".py",
   "mimetype": "text/x-python",
   "name": "python",
   "nbconvert_exporter": "python",
   "pygments_lexer": "ipython3",
   "version": "3.11.9"
  }
 },
 "nbformat": 4,
 "nbformat_minor": 5
}
