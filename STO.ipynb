{
 "cells": [
  {
   "cell_type": "code",
   "execution_count": 11,
   "id": "cc07ec3d-7199-4e0b-9918-78b652236ae0",
   "metadata": {},
   "outputs": [
    {
     "name": "stdout",
     "output_type": "stream",
     "text": [
      "Using Materials Project MACE for MACECalculator with /home/lana/.cache/mace/5yyxdm76\n",
      "Using float64 for MACECalculator, which is slower but more accurate. Recommended for geometry optimization.\n",
      "       Step     Time          Energy         fmax\n",
      "*Force-consistent energies used in optimization.\n",
      "LBFGS:    0 15:07:04      -28.749845*       0.0015\n"
     ]
    },
    {
     "data": {
      "text/plain": [
       "<Popen: returncode: None args: ['/home/lana/ve/bin/python3', '-m', 'ase', 'g...>"
      ]
     },
     "execution_count": 11,
     "metadata": {},
     "output_type": "execute_result"
    }
   ],
   "source": [
    "from ase.io import read, write\n",
    "from mace.calculators import mace_mp\n",
    "from ase.build import surface\n",
    "from ase.visualize import view\n",
    "from ase.constraints import FixAtoms, UnitCellFilter\n",
    "from ase.build import bulk\n",
    "import numpy as np\n",
    "from ase.optimize import LBFGS\n",
    "\n",
    "x = read('/home/lana/Downloads/9007497.cif')\n",
    "x.calc = mace_mp(model=\"medium\", dispersion=False, default_dtype=\"float64\", device='cpu')\n",
    "ucf = UnitCellFilter(x)\n",
    "qn = LBFGS(ucf, trajectory='bulk_rlx.traj')\n",
    "qn.run(fmax=0.01)\n",
    "E_x = x.get_potential_energy()\n",
    "t = read('bulk_rlx.traj@:')\n",
    "view(t)"
   ]
  },
  {
   "cell_type": "code",
   "execution_count": 38,
   "id": "505d8257-38fa-4ad0-a9fe-5b6ab5b2694a",
   "metadata": {},
   "outputs": [
    {
     "name": "stdout",
     "output_type": "stream",
     "text": [
      "Using Materials Project MACE for MACECalculator with /home/lana/.cache/mace/5yyxdm76\n",
      "Using float64 for MACECalculator, which is slower but more accurate. Recommended for geometry optimization.\n",
      "Using Materials Project MACE for MACECalculator with /home/lana/.cache/mace/5yyxdm76\n",
      "Using float64 for MACECalculator, which is slower but more accurate. Recommended for geometry optimization.\n",
      "n_layers=3 E_cleav=0.09781531101608756\n",
      "       Step     Time          Energy         fmax\n",
      "*Force-consistent energies used in optimization.\n",
      "LBFGS:    0 16:06:15      -67.526475*       1.4236\n",
      "LBFGS:    1 16:06:16      -67.597947*       1.1723\n",
      "LBFGS:    2 16:06:16      -67.819203*       0.6779\n",
      "LBFGS:    3 16:06:16      -67.962566*       0.6284\n",
      "LBFGS:    4 16:06:17      -68.051696*       0.8730\n",
      "LBFGS:    5 16:06:17      -68.092568*       0.8230\n",
      "LBFGS:    6 16:06:17      -68.253886*       0.9669\n",
      "LBFGS:    7 16:06:17      -68.282901*       0.5702\n",
      "LBFGS:    8 16:06:18      -68.299035*       0.5603\n",
      "LBFGS:    9 16:06:18      -68.330663*       0.6264\n",
      "LBFGS:   10 16:06:19      -68.367605*       0.7529\n",
      "LBFGS:   11 16:06:19      -68.431160*       0.6142\n",
      "LBFGS:   12 16:06:19      -68.454394*       0.4988\n",
      "LBFGS:   13 16:06:19      -68.485321*       0.2887\n",
      "LBFGS:   14 16:06:20      -68.495916*       0.3165\n",
      "LBFGS:   15 16:06:20      -68.530075*       0.5353\n",
      "LBFGS:   16 16:06:22      -68.555668*       0.4897\n",
      "LBFGS:   17 16:06:22      -68.570316*       0.3832\n",
      "LBFGS:   18 16:06:22      -68.579649*       0.3245\n",
      "LBFGS:   19 16:06:23      -68.584757*       0.2792\n",
      "LBFGS:   20 16:06:23      -68.588751*       0.1538\n",
      "LBFGS:   21 16:06:23      -68.589903*       0.0663\n",
      "LBFGS:   22 16:06:24      -68.589999*       0.0488\n",
      "LBFGS:   23 16:06:24      -68.590080*       0.0371\n",
      "LBFGS:   24 16:06:24      -68.590181*       0.0458\n",
      "LBFGS:   25 16:06:25      -68.590382*       0.0486\n",
      "LBFGS:   26 16:06:25      -68.590565*       0.0327\n",
      "LBFGS:   27 16:06:25      -68.590646*       0.0122\n",
      "LBFGS:   28 16:06:26      -68.590660*       0.0067\n",
      "n_layers=3 E_surf=0.27828004172956633\n"
     ]
    }
   ],
   "source": [
    "from ase import Atoms\n",
    "from mace.calculators import mace_mp\n",
    "from ase.build import surface\n",
    "from ase.constraints import FixAtoms, UnitCellFilter\n",
    "from ase.optimize import QuasiNewton\n",
    "from ase.visualize import view\n",
    "from ase.io import read, write\n",
    "from ase.optimize import LBFGS\n",
    "import numpy as np\n",
    "\n",
    "\n",
    "def cu2o_bulk():\n",
    "  return read('bulk_rlx.traj')\n",
    "\n",
    "b = cu2o_bulk()\n",
    "b.calc = mace_mp(model=\"medium\", dispersion=False, default_dtype=\"float64\", device='cpu')\n",
    "E_bulk = b.get_potential_energy()\n",
    "\n",
    "\n",
    "def cu2o111(n_slab, vacuum):\n",
    "  x = cu2o_bulk()\n",
    "  x.translate([0.1, 0.1, 0])\n",
    "  slab = surface(x, (1,1,1), n_slab, vacuum=vacuum, periodic=True)  \n",
    "  return slab \n",
    "\n",
    "\n",
    "n_layers = 3\n",
    "slab = cu2o111(n_layers, 10)\n",
    "\n",
    "#view(slab)\n",
    "write('slab.xyz', slab)\n",
    "\n",
    "\n",
    "slab.calc = mace_mp(model=\"medium\", dispersion=False, default_dtype=\"float64\", device='cpu')\n",
    "\n",
    "E_slab = slab.get_potential_energy()\n",
    "E_cleav = (E_slab - E_bulk * n_layers) / 2 / np.linalg.det(slab.cell[:2, :2])\n",
    "print(f'{n_layers=} {E_cleav=}')\n",
    "\n",
    "#def STO_FCC111():\n",
    "bottom_O_z = np.min(slab[slab.symbols=='O'].positions[:,2])\n",
    "maskO=slab.positions[:, 2] <= bottom_O_z \n",
    "bottom_Cu_z = np.min(slab[slab.symbols=='Cu'].positions[:,2])\n",
    "STO_z = np.max(slab[slab.symbols=='O'].positions[:,2])\n",
    "del slab[maskO]\n",
    "mask2 = (slab.positions[:, 2] >= STO_z) & (slab.symbols=='O')\n",
    "del slab[mask2]\n",
    "\n",
    "#STO_FCC111()\n",
    "\n",
    "mask1=slab.positions[:, 2] < bottom_Cu_z + 1.0\n",
    "slab.set_constraint(FixAtoms(mask=mask1))\n",
    "qn = LBFGS(slab, trajectory='111slab.traj')\n",
    "qn.run(fmax=0.01)\n",
    "E_slab = slab.get_potential_energy()\n",
    "t = read('111slab.traj@:')\n",
    "atoms = t[-1]\n",
    "#view(t)\n",
    "\n",
    "view(atoms)\n",
    "\n",
    "\n",
    "\n",
    "   \n",
    "E_surf = (E_slab - E_bulk * n_layers) / 2 / np.linalg.det(slab.cell[:2, :2])\n",
    "print(f'{n_layers=} {E_surf=}')\n"
   ]
  },
  {
   "cell_type": "code",
   "execution_count": null,
   "id": "454d8cfb-9139-43fb-baef-e753faedbee9",
   "metadata": {},
   "outputs": [],
   "source": []
  }
 ],
 "metadata": {
  "kernelspec": {
   "display_name": "Python 3 (ipykernel)",
   "language": "python",
   "name": "python3"
  },
  "language_info": {
   "codemirror_mode": {
    "name": "ipython",
    "version": 3
   },
   "file_extension": ".py",
   "mimetype": "text/x-python",
   "name": "python",
   "nbconvert_exporter": "python",
   "pygments_lexer": "ipython3",
   "version": "3.11.9"
  }
 },
 "nbformat": 4,
 "nbformat_minor": 5
}
