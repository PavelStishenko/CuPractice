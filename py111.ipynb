{
 "cells": [
  {
   "cell_type": "code",
   "execution_count": 1,
   "id": "cc07ec3d-7199-4e0b-9918-78b652236ae0",
   "metadata": {},
   "outputs": [
    {
     "name": "stdout",
     "output_type": "stream",
     "text": [
      "Using Materials Project MACE for MACECalculator with /home/lana/.cache/mace/5yyxdm76\n",
      "Using float64 for MACECalculator, which is slower but more accurate. Recommended for geometry optimization.\n",
      "       Step     Time          Energy         fmax\n",
      "*Force-consistent energies used in optimization.\n",
      "LBFGS:    0 12:09:15      -28.749845*       0.0015\n"
     ]
    },
    {
     "data": {
      "text/plain": [
       "<Popen: returncode: None args: ['/home/lana/ve/bin/python3', '-m', 'ase', 'g...>"
      ]
     },
     "execution_count": 1,
     "metadata": {},
     "output_type": "execute_result"
    }
   ],
   "source": [
    "from ase.io import read, write\n",
    "from mace.calculators import mace_mp\n",
    "from ase.build import surface\n",
    "from ase.visualize import view\n",
    "from ase.constraints import FixAtoms, UnitCellFilter\n",
    "from ase.build import bulk\n",
    "import numpy as np\n",
    "from ase.optimize import LBFGS\n",
    "\n",
    "x = read('/home/lana/Downloads/9007497.cif')\n",
    "x.calc = mace_mp(model=\"medium\", dispersion=False, default_dtype=\"float64\", device='cpu')\n",
    "ucf = UnitCellFilter(x)\n",
    "qn = LBFGS(ucf, trajectory='bulk_rlx.traj')\n",
    "qn.run(fmax=0.01)\n",
    "E_x = x.get_potential_energy()\n",
    "t = read('bulk_rlx.traj@:')\n",
    "view(t)"
   ]
  },
  {
   "cell_type": "code",
   "execution_count": 1,
   "id": "505d8257-38fa-4ad0-a9fe-5b6ab5b2694a",
   "metadata": {},
   "outputs": [
    {
     "name": "stdout",
     "output_type": "stream",
     "text": [
      "Using Materials Project MACE for MACECalculator with /home/lana/.cache/mace/5yyxdm76\n",
      "Using float64 for MACECalculator, which is slower but more accurate. Recommended for geometry optimization.\n",
      "Using Materials Project MACE for MACECalculator with /home/lana/.cache/mace/5yyxdm76\n",
      "Using float64 for MACECalculator, which is slower but more accurate. Recommended for geometry optimization.\n",
      "n_layers=3 E_cleav=0.17398570840805302\n",
      "Using Materials Project MACE for MACECalculator with /home/lana/.cache/mace/5yyxdm76\n",
      "Using float64 for MACECalculator, which is slower but more accurate. Recommended for geometry optimization.\n",
      "       Step     Time          Energy         fmax\n",
      "*Force-consistent energies used in optimization.\n",
      "LBFGS:    0 11:55:52     -120.383253*       1.2474\n",
      "LBFGS:    1 11:55:53     -120.468662*       1.1116\n",
      "LBFGS:    2 11:55:53     -120.753413*       0.7955\n",
      "LBFGS:    3 11:55:54     -120.917203*       0.9812\n",
      "LBFGS:    4 11:55:54     -121.045680*       0.9840\n",
      "LBFGS:    5 11:55:55     -121.119173*       0.6344\n",
      "LBFGS:    6 11:55:55     -121.181202*       0.5026\n",
      "LBFGS:    7 11:55:56     -121.233579*       0.5010\n",
      "LBFGS:    8 11:55:56     -121.292541*       0.7310\n",
      "LBFGS:    9 11:55:57     -121.356365*       0.6714\n",
      "LBFGS:   10 11:55:57     -121.397220*       0.5608\n",
      "LBFGS:   11 11:55:58     -121.425524*       0.4310\n",
      "LBFGS:   12 11:55:58     -121.436539*       0.3157\n",
      "LBFGS:   13 11:55:59     -121.451545*       0.2677\n",
      "LBFGS:   14 11:55:59     -121.458558*       0.1739\n",
      "LBFGS:   15 11:56:00     -121.461802*       0.2098\n",
      "LBFGS:   16 11:56:00     -121.465266*       0.2021\n",
      "LBFGS:   17 11:56:01     -121.470882*       0.1809\n",
      "LBFGS:   18 11:56:01     -121.477508*       0.2124\n",
      "LBFGS:   19 11:56:02     -121.483878*       0.2189\n",
      "LBFGS:   20 11:56:02     -121.489388*       0.2262\n",
      "LBFGS:   21 11:56:03     -121.494402*       0.2225\n",
      "LBFGS:   22 11:56:03     -121.499212*       0.1652\n",
      "LBFGS:   23 11:56:04     -121.502794*       0.1748\n",
      "LBFGS:   24 11:56:04     -121.504621*       0.1214\n",
      "LBFGS:   25 11:56:05     -121.505806*       0.0894\n",
      "LBFGS:   26 11:56:05     -121.507256*       0.0872\n",
      "LBFGS:   27 11:56:06     -121.509546*       0.1531\n",
      "LBFGS:   28 11:56:06     -121.512719*       0.2079\n",
      "LBFGS:   29 11:56:07     -121.516111*       0.1879\n",
      "LBFGS:   30 11:56:07     -121.518276*       0.1229\n",
      "LBFGS:   31 11:56:08     -121.519533*       0.1181\n",
      "LBFGS:   32 11:56:08     -121.520838*       0.1117\n",
      "LBFGS:   33 11:56:09     -121.522438*       0.1532\n",
      "LBFGS:   34 11:56:09     -121.524102*       0.1350\n",
      "LBFGS:   35 11:56:10     -121.525293*       0.0877\n",
      "LBFGS:   36 11:56:10     -121.525899*       0.0498\n",
      "LBFGS:   37 11:56:11     -121.526185*       0.0544\n",
      "LBFGS:   38 11:56:11     -121.526444*       0.0531\n",
      "LBFGS:   39 11:56:12     -121.526689*       0.0392\n",
      "LBFGS:   40 11:56:12     -121.526841*       0.0208\n",
      "LBFGS:   41 11:56:13     -121.526929*       0.0203\n",
      "LBFGS:   42 11:56:13     -121.527009*       0.0283\n",
      "LBFGS:   43 11:56:14     -121.527126*       0.0380\n",
      "LBFGS:   44 11:56:14     -121.527326*       0.0415\n",
      "LBFGS:   45 11:56:15     -121.527644*       0.0423\n",
      "LBFGS:   46 11:56:15     -121.528004*       0.0380\n",
      "LBFGS:   47 11:56:16     -121.528222*       0.0207\n",
      "LBFGS:   48 11:56:16     -121.528280*       0.0115\n",
      "LBFGS:   49 11:56:17     -121.528291*       0.0081\n",
      "n_layers=3 E_surf=-0.5559456284411257\n"
     ]
    }
   ],
   "source": [
    "from ase import Atoms\n",
    "from mace.calculators import mace_mp\n",
    "from ase.build import surface\n",
    "from ase.constraints import FixAtoms, UnitCellFilter\n",
    "from ase.optimize import QuasiNewton\n",
    "from ase.visualize import view\n",
    "from ase.io import read, write\n",
    "from ase.optimize import LBFGS\n",
    "import numpy as np\n",
    "from cu2o_bulk import cu2o_bulk, cu2o111, CuD_FCC111\n",
    "\n",
    "b = cu2o_bulk()\n",
    "b.calc = mace_mp(model=\"medium\", dispersion=False, default_dtype=\"float64\", device='cpu')\n",
    "E_bulk = b.get_potential_energy()\n",
    "\n",
    "n_layers=3\n",
    "vacuum=10\n",
    "slab = cu2o111(n_layers, vacuum)\n",
    "write('slab.xyz', slab)\n",
    "\n",
    "slab.calc = mace_mp(model=\"medium\", dispersion=False, default_dtype=\"float64\", device='cpu')\n",
    "\n",
    "E_slab = slab.get_potential_energy()\n",
    "E_cleav = (E_slab - E_bulk * n_layers) / 2 / np.linalg.det(slab.cell[:2, :2])\n",
    "print(f'{n_layers=} {E_cleav=}')\n",
    "\n",
    "slab = CuD_FCC111(n_layers=5, vacuum=10)\n",
    "slab.calc = mace_mp(model=\"medium\", dispersion=False, default_dtype=\"float64\", device='cpu')\n",
    "\n",
    "#Fixing Lowest Cu atoms\n",
    "bottom_Cu_z = np.min(slab[slab.symbols=='Cu'].positions[:,2])\n",
    "mask1=slab.positions[:, 2] < bottom_Cu_z + 1.0\n",
    "slab.set_constraint(FixAtoms(mask=mask1))\n",
    "\n",
    "qn = LBFGS(slab, trajectory='111slab.traj')\n",
    "qn.run(fmax=0.01)\n",
    "E_slab = slab.get_potential_energy()\n",
    "t = read('111slab.traj@:')\n",
    "atoms = t[-1]\n",
    "view(atoms)\n",
    " \n",
    "E_surf = (E_slab - E_bulk * n_layers) / 2 / np.linalg.det(slab.cell[:2, :2])\n",
    "print(f'{n_layers=} {E_surf=}')"
   ]
  },
  {
   "cell_type": "code",
   "execution_count": 1,
   "id": "3e04869a-9580-485a-8efe-0a0bf557a161",
   "metadata": {},
   "outputs": [
    {
     "data": {
      "text/plain": [
       "\"\\nE_slab = slab.get_potential_energy()\\nE_cleav = (E_slab - E_bulk * n_layers) / 2 / np.linalg.det(slab.cell[:2, :2])\\nprint(f'{n_layers=} {E_cleav=}')\\n\\nbottom_Cu_z = np.min(slab[slab.symbols=='Cu'].positions[:,2])\\nmask1=slab.positions[:, 2] < bottom_Cu_z + 1.0\\nslab.set_constraint(FixAtoms(mask=mask1))\\n\\nqn = LBFGS(slab, trajectory='111slab.traj')\\nqn.run(fmax=0.01)\\nE_slab = slab.get_potential_energy()\\nt = read('111slab.traj@:')\\natoms = t[-1]\\nview(atoms)\\n \\nE_surf = (E_slab - E_bulk * n_layers) / 2 / np.linalg.det(slab.cell[:2, :2])\\nprint(f'{n_layers=} {E_surf=}')\\n\""
      ]
     },
     "execution_count": 1,
     "metadata": {},
     "output_type": "execute_result"
    }
   ],
   "source": [
    "from ase import Atoms\n",
    "from mace.calculators import mace_mp\n",
    "from ase.build import surface\n",
    "from ase.constraints import FixAtoms, UnitCellFilter\n",
    "from ase.optimize import QuasiNewton\n",
    "from ase.visualize import view\n",
    "from ase.io import read, write\n",
    "from ase.optimize import LBFGS\n",
    "import numpy as np\n",
    "from cu2o_bulk import cu2o_bulk, cu2o111, CuD_FCC111, py111\n",
    "\n",
    "b = cu2o_bulk()\n",
    "b.calc = mace_mp(model=\"medium\", dispersion=False, default_dtype=\"float64\", device='cpu')\n",
    "E_bulk = b.get_potential_energy()\n",
    "\n",
    "slab = py111(3, 10)\n",
    "slab.calc = mace_mp(model=\"medium\", dispersion=False, default_dtype=\"float64\", device='cpu')\n",
    "view(slab)\n",
    "\n",
    "E_slab = slab.get_potential_energy()\n",
    "E_cleav = (E_slab - E_bulk * n_layers) / 2 / np.linalg.det(slab.cell[:2, :2])\n",
    "print(f'{n_layers=} {E_cleav=}')\n",
    "\n",
    "bottom_Cu_z = np.min(slab[slab.symbols=='Cu'].positions[:,2])\n",
    "mask1=slab.positions[:, 2] < bottom_Cu_z + 1.0\n",
    "slab.set_constraint(FixAtoms(mask=mask1))\n",
    "\n",
    "qn = LBFGS(slab, trajectory='111slab.traj')\n",
    "qn.run(fmax=0.01)\n",
    "E_slab = slab.get_potential_energy()\n",
    "t = read('111slab.traj@:')\n",
    "atoms = t[-1]\n",
    "view(atoms)\n",
    " \n",
    "E_surf = (E_slab - E_bulk * n_layers) / 2 / np.linalg.det(slab.cell[:2, :2])\n",
    "print(f'{n_layers=} {E_surf=}')\n"
   ]
  },
  {
   "cell_type": "code",
   "execution_count": 34,
   "id": "454d8cfb-9139-43fb-baef-e753faedbee9",
   "metadata": {},
   "outputs": [
    {
     "data": {
      "text/plain": [
       "<Popen: returncode: None args: ['/home/lana/ve/bin/python3', '-m', 'ase', 'g...>"
      ]
     },
     "execution_count": 34,
     "metadata": {},
     "output_type": "execute_result"
    }
   ],
   "source": [
    "O_pos = np.mean(slab.positions[slab.positions[:,2] > 15, :], axis=0) + [2.35,1.3, 3.75]\n",
    "Cu_pos = np.mean(slab.positions[slab.positions[:,2] > 15, :], axis=0) + [1.0,0.5, 2.0]\n",
    "O = Atoms(symbols='O', positions = [O_pos])\n",
    "Cu = Atoms(symbols='Cu', positions = [Cu_pos])\n",
    "\n",
    "Cu2 = Cu.copy()\n",
    "Cu2.translate([2.8,0,0])\n",
    "Cu3 = Cu.copy()\n",
    "Cu3.translate([1.3,2.5,0])\n",
    "\n",
    "slab_py = slab + O + Cu + Cu2 + Cu3\n",
    "view(slab_py)"
   ]
  },
  {
   "cell_type": "code",
   "execution_count": null,
   "id": "786a5d46-e670-44f9-b7fd-613180e630b4",
   "metadata": {},
   "outputs": [],
   "source": []
  }
 ],
 "metadata": {
  "kernelspec": {
   "display_name": "Python 3 (ipykernel)",
   "language": "python",
   "name": "python3"
  },
  "language_info": {
   "codemirror_mode": {
    "name": "ipython",
    "version": 3
   },
   "file_extension": ".py",
   "mimetype": "text/x-python",
   "name": "python",
   "nbconvert_exporter": "python",
   "pygments_lexer": "ipython3",
   "version": "3.11.9"
  }
 },
 "nbformat": 4,
 "nbformat_minor": 5
}
