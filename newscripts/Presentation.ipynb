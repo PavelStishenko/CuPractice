{
 "cells": [
  {
   "cell_type": "code",
   "execution_count": 9,
   "id": "c00b39d0-3911-4a59-a18b-d1afaae9cb8d",
   "metadata": {},
   "outputs": [
    {
     "ename": "AttributeError",
     "evalue": "'str' object has no attribute 'indices'",
     "output_type": "error",
     "traceback": [
      "\u001b[0;31m---------------------------------------------------------------------------\u001b[0m",
      "\u001b[0;31mAttributeError\u001b[0m                            Traceback (most recent call last)",
      "Cell \u001b[0;32mIn[9], line 3\u001b[0m\n\u001b[1;32m      1\u001b[0m \u001b[38;5;28;01mfrom\u001b[39;00m \u001b[38;5;21;01mase\u001b[39;00m\u001b[38;5;21;01m.\u001b[39;00m\u001b[38;5;21;01mvisualize\u001b[39;00m \u001b[38;5;28;01mimport\u001b[39;00m view\n\u001b[1;32m      2\u001b[0m \u001b[38;5;28;01mfrom\u001b[39;00m \u001b[38;5;21;01mase\u001b[39;00m\u001b[38;5;21;01m.\u001b[39;00m\u001b[38;5;21;01mio\u001b[39;00m \u001b[38;5;28;01mimport\u001b[39;00m read\n\u001b[0;32m----> 3\u001b[0m test\u001b[38;5;241m=\u001b[39m\u001b[43mread\u001b[49m\u001b[43m(\u001b[49m\u001b[38;5;124;43m'\u001b[39;49m\u001b[38;5;124;43m/home/lana/Documents/Cuterm4x4constrained4.traj@index = -1\u001b[39;49m\u001b[38;5;124;43m'\u001b[39;49m\u001b[43m)\u001b[49m\n\u001b[1;32m      4\u001b[0m view(test)\n",
      "File \u001b[0;32m~/ve/lib64/python3.11/site-packages/ase/io/formats.py:733\u001b[0m, in \u001b[0;36mread\u001b[0;34m(filename, index, format, parallel, do_not_split_by_at_sign, **kwargs)\u001b[0m\n\u001b[1;32m    731\u001b[0m io \u001b[38;5;241m=\u001b[39m get_ioformat(\u001b[38;5;28mformat\u001b[39m)\n\u001b[1;32m    732\u001b[0m \u001b[38;5;28;01mif\u001b[39;00m \u001b[38;5;28misinstance\u001b[39m(index, (\u001b[38;5;28mslice\u001b[39m, \u001b[38;5;28mstr\u001b[39m)):\n\u001b[0;32m--> 733\u001b[0m     \u001b[38;5;28;01mreturn\u001b[39;00m \u001b[38;5;28;43mlist\u001b[39;49m\u001b[43m(\u001b[49m\u001b[43m_iread\u001b[49m\u001b[43m(\u001b[49m\u001b[43mfilename\u001b[49m\u001b[43m,\u001b[49m\u001b[43m \u001b[49m\u001b[43mindex\u001b[49m\u001b[43m,\u001b[49m\u001b[43m \u001b[49m\u001b[38;5;28;43mformat\u001b[39;49m\u001b[43m,\u001b[49m\u001b[43m \u001b[49m\u001b[43mio\u001b[49m\u001b[43m,\u001b[49m\u001b[43m \u001b[49m\u001b[43mparallel\u001b[49m\u001b[38;5;241;43m=\u001b[39;49m\u001b[43mparallel\u001b[49m\u001b[43m,\u001b[49m\n\u001b[1;32m    734\u001b[0m \u001b[43m                       \u001b[49m\u001b[38;5;241;43m*\u001b[39;49m\u001b[38;5;241;43m*\u001b[39;49m\u001b[43mkwargs\u001b[49m\u001b[43m)\u001b[49m\u001b[43m)\u001b[49m\n\u001b[1;32m    735\u001b[0m \u001b[38;5;28;01melse\u001b[39;00m:\n\u001b[1;32m    736\u001b[0m     \u001b[38;5;28;01mreturn\u001b[39;00m \u001b[38;5;28mnext\u001b[39m(_iread(filename, \u001b[38;5;28mslice\u001b[39m(index, \u001b[38;5;28;01mNone\u001b[39;00m), \u001b[38;5;28mformat\u001b[39m, io,\n\u001b[1;32m    737\u001b[0m                        parallel\u001b[38;5;241m=\u001b[39mparallel, \u001b[38;5;241m*\u001b[39m\u001b[38;5;241m*\u001b[39mkwargs))\n",
      "File \u001b[0;32m~/ve/lib64/python3.11/site-packages/ase/parallel.py:275\u001b[0m, in \u001b[0;36mparallel_generator.<locals>.new_generator\u001b[0;34m(*args, **kwargs)\u001b[0m\n\u001b[1;32m    269\u001b[0m \u001b[38;5;129m@functools\u001b[39m\u001b[38;5;241m.\u001b[39mwraps(generator)\n\u001b[1;32m    270\u001b[0m \u001b[38;5;28;01mdef\u001b[39;00m \u001b[38;5;21mnew_generator\u001b[39m(\u001b[38;5;241m*\u001b[39margs, \u001b[38;5;241m*\u001b[39m\u001b[38;5;241m*\u001b[39mkwargs):\n\u001b[1;32m    271\u001b[0m     \u001b[38;5;28;01mif\u001b[39;00m (world\u001b[38;5;241m.\u001b[39msize \u001b[38;5;241m==\u001b[39m \u001b[38;5;241m1\u001b[39m \u001b[38;5;129;01mor\u001b[39;00m\n\u001b[1;32m    272\u001b[0m         args \u001b[38;5;129;01mand\u001b[39;00m \u001b[38;5;28mgetattr\u001b[39m(args[\u001b[38;5;241m0\u001b[39m], \u001b[38;5;124m'\u001b[39m\u001b[38;5;124mserial\u001b[39m\u001b[38;5;124m'\u001b[39m, \u001b[38;5;28;01mFalse\u001b[39;00m) \u001b[38;5;129;01mor\u001b[39;00m\n\u001b[1;32m    273\u001b[0m         \u001b[38;5;129;01mnot\u001b[39;00m kwargs\u001b[38;5;241m.\u001b[39mpop(\u001b[38;5;124m'\u001b[39m\u001b[38;5;124mparallel\u001b[39m\u001b[38;5;124m'\u001b[39m, \u001b[38;5;28;01mTrue\u001b[39;00m)):\n\u001b[1;32m    274\u001b[0m         \u001b[38;5;66;03m# Disable:\u001b[39;00m\n\u001b[0;32m--> 275\u001b[0m \u001b[43m        \u001b[49m\u001b[38;5;28;43;01mfor\u001b[39;49;00m\u001b[43m \u001b[49m\u001b[43mresult\u001b[49m\u001b[43m \u001b[49m\u001b[38;5;129;43;01min\u001b[39;49;00m\u001b[43m \u001b[49m\u001b[43mgenerator\u001b[49m\u001b[43m(\u001b[49m\u001b[38;5;241;43m*\u001b[39;49m\u001b[43margs\u001b[49m\u001b[43m,\u001b[49m\u001b[43m \u001b[49m\u001b[38;5;241;43m*\u001b[39;49m\u001b[38;5;241;43m*\u001b[39;49m\u001b[43mkwargs\u001b[49m\u001b[43m)\u001b[49m\u001b[43m:\u001b[49m\n\u001b[1;32m    276\u001b[0m \u001b[43m            \u001b[49m\u001b[38;5;28;43;01myield\u001b[39;49;00m\u001b[43m \u001b[49m\u001b[43mresult\u001b[49m\n\u001b[1;32m    277\u001b[0m         \u001b[38;5;28;01mreturn\u001b[39;00m\n",
      "File \u001b[0;32m~/ve/lib64/python3.11/site-packages/ase/io/formats.py:803\u001b[0m, in \u001b[0;36m_iread\u001b[0;34m(filename, index, format, io, parallel, full_output, **kwargs)\u001b[0m\n\u001b[1;32m    801\u001b[0m \u001b[38;5;66;03m# Make sure fd is closed in case loop doesn't finish:\u001b[39;00m\n\u001b[1;32m    802\u001b[0m \u001b[38;5;28;01mtry\u001b[39;00m:\n\u001b[0;32m--> 803\u001b[0m \u001b[43m    \u001b[49m\u001b[38;5;28;43;01mfor\u001b[39;49;00m\u001b[43m \u001b[49m\u001b[43mdct\u001b[49m\u001b[43m \u001b[49m\u001b[38;5;129;43;01min\u001b[39;49;00m\u001b[43m \u001b[49m\u001b[43mio\u001b[49m\u001b[38;5;241;43m.\u001b[39;49m\u001b[43mread\u001b[49m\u001b[43m(\u001b[49m\u001b[43mfd\u001b[49m\u001b[43m,\u001b[49m\u001b[43m \u001b[49m\u001b[38;5;241;43m*\u001b[39;49m\u001b[43margs\u001b[49m\u001b[43m,\u001b[49m\u001b[43m \u001b[49m\u001b[38;5;241;43m*\u001b[39;49m\u001b[38;5;241;43m*\u001b[39;49m\u001b[43mkwargs\u001b[49m\u001b[43m)\u001b[49m\u001b[43m:\u001b[49m\n\u001b[1;32m    804\u001b[0m \u001b[43m        \u001b[49m\u001b[38;5;28;43;01mif\u001b[39;49;00m\u001b[43m \u001b[49m\u001b[38;5;129;43;01mnot\u001b[39;49;00m\u001b[43m \u001b[49m\u001b[38;5;28;43misinstance\u001b[39;49m\u001b[43m(\u001b[49m\u001b[43mdct\u001b[49m\u001b[43m,\u001b[49m\u001b[43m \u001b[49m\u001b[38;5;28;43mdict\u001b[39;49m\u001b[43m)\u001b[49m\u001b[43m:\u001b[49m\n\u001b[1;32m    805\u001b[0m \u001b[43m            \u001b[49m\u001b[43mdct\u001b[49m\u001b[43m \u001b[49m\u001b[38;5;241;43m=\u001b[39;49m\u001b[43m \u001b[49m\u001b[43m{\u001b[49m\u001b[38;5;124;43m'\u001b[39;49m\u001b[38;5;124;43matoms\u001b[39;49m\u001b[38;5;124;43m'\u001b[39;49m\u001b[43m:\u001b[49m\u001b[43m \u001b[49m\u001b[43mdct\u001b[49m\u001b[43m}\u001b[49m\n",
      "File \u001b[0;32m~/ve/lib64/python3.11/site-packages/ase/io/trajectory.py:405\u001b[0m, in \u001b[0;36mread_traj\u001b[0;34m(fd, index)\u001b[0m\n\u001b[1;32m    403\u001b[0m \u001b[38;5;28;01mdef\u001b[39;00m \u001b[38;5;21mread_traj\u001b[39m(fd, index):\n\u001b[1;32m    404\u001b[0m     trj \u001b[38;5;241m=\u001b[39m TrajectoryReader(fd)\n\u001b[0;32m--> 405\u001b[0m     \u001b[38;5;28;01mfor\u001b[39;00m i \u001b[38;5;129;01min\u001b[39;00m \u001b[38;5;28mrange\u001b[39m(\u001b[38;5;241m*\u001b[39m\u001b[43mindex\u001b[49m\u001b[38;5;241;43m.\u001b[39;49m\u001b[43mindices\u001b[49m(\u001b[38;5;28mlen\u001b[39m(trj))):\n\u001b[1;32m    406\u001b[0m         \u001b[38;5;28;01myield\u001b[39;00m trj[i]\n",
      "\u001b[0;31mAttributeError\u001b[0m: 'str' object has no attribute 'indices'"
     ]
    }
   ],
   "source": [
    "from ase.visualize import view\n",
    "from ase.io import read\n",
    "test=read('/home/lana/Documents/Cuterm4x4constrained4.traj@index = -1')\n",
    "view(test)"
   ]
  },
  {
   "cell_type": "code",
   "execution_count": 14,
   "id": "a607c551-e15c-411a-a993-baf9e1ab8240",
   "metadata": {},
   "outputs": [
    {
     "data": {
      "text/plain": [
       "<Popen: returncode: None args: ['/home/lana/ve/bin/python3', '-m', 'ase', 'g...>"
      ]
     },
     "execution_count": 14,
     "metadata": {},
     "output_type": "execute_result"
    }
   ],
   "source": [
    "from ase import Atoms\n",
    "from mace.calculators import mace_mp\n",
    "from ase.build import surface\n",
    "from ase.constraints import FixAtoms, UnitCellFilter\n",
    "from ase.optimize import QuasiNewton\n",
    "from ase.visualize import view\n",
    "from ase.io import read, write\n",
    "from ase.optimize import LBFGS\n",
    "import numpy as np\n",
    "from ase.build.supercells import make_supercell\n",
    "import pandas as pd\n",
    "from tabulate import tabulate\n",
    "from cu2o_bulk import cu2o_bulk, CuD_FCC111, STO_FCC111,CuDO_FCC111, py111, Oterm1x1, Cuterm1x1, slab3011, dimer1x1, c2x2, ST4x4, Cuterm4x4, cu2o111,Cuterm1x1, hollow_Cuterm,cu2o100, Bridge_STCl_CuCu ,Bridge_STCl_CuO,atop_unsatCu_STCl, atop_satCu_STCl\n",
    "\n",
    "cif=read('/home/lana/Downloads/9007497.cif') ##same as bulk\n",
    "#view(cif)\n",
    "\n",
    "bulk = cu2o_bulk() ##same as cif\n",
    "#view(bulk)\n",
    "\n",
    "slab111 = cu2o111(bulk,n_layers=3,vacuum=10) \n",
    "#view(slab111)\n",
    "\n",
    "CuD111=CuD_FCC111(bulk,3, 10) ##Structure is not complete as oxygens are too high - easily fixed though!\n",
    "#view(CuD111)\n",
    "\n",
    "STO111=STO_FCC111(bulk, n_layers=3, vacuum=10)\n",
    "#view(STO111)\n",
    "\n",
    "CuDO111=CuDO_FCC111(bulk,3,10)\n",
    "write('CuDO111.xyz', CuDO111)\n",
    "#view(CuDO111)\n",
    "\n",
    "Py111= py111(bulk,3,10)\n",
    "#view(Py111)\n",
    "\n",
    "slab100 = cu2o100(bulk,3,10)\n",
    "#view(slab100)\n",
    "\n",
    "OTerm100= Oterm1x1(bulk,3,10)\n",
    "#view(OTerm100)\n",
    "\n",
    "CuTerm100= Cuterm1x1(bulk,3,10)\n",
    "#view(CuTerm100)\n",
    "\n",
    "paperCuTerm100=read('/home/lana/Cuterm1x1.xyz')\n",
    "#view(paperCuTerm100)\n",
    "\n",
    "slab3011 = slab3011 (bulk, 3, 10)\n",
    "#view(slab3011)\n",
    "#write('slab3011.xyz', slab3011)\n",
    "\n",
    "dimer100=dimer1x1(bulk,3,10) ##incomplete\n",
    "#view(dimer100)\n",
    "\n",
    "c2x2=c2x2(bulk,3,10)\n",
    "#view(c2x2)\n",
    "\n",
    "STCl_CuO_bridge= Bridge_STCl_CuO(bulk,n_layers=3,vacuum=10,Cl_X_position=0,Cl_Y_position=0,Cl_Z_position=5.5) ##depends on n_layers!! Is 4x4 supercell\n",
    "#view(STCl_CuO_bridge)\n",
    "#write('STCl_CuO_bridge.xyz', STCl_CuO_bridge)\n",
    "\n",
    "Cuterm4x4= Cuterm4x4(bulk,3,10)\n",
    "#view(Cuterm4x4)\n",
    "#write('Cuterm4x4.xyz',Cuterm4x4)\n",
    "\n",
    "Cu_bridge= hollow_Cuterm(bulk,4,10,0,0,9)\n",
    "view(Cu_bridge)\n",
    "#write('Cu_Bridge_Cuterm4x4.xyz', Cu_bridge)"
   ]
  }
 ],
 "metadata": {
  "kernelspec": {
   "display_name": "Python 3 (ipykernel)",
   "language": "python",
   "name": "python3"
  },
  "language_info": {
   "codemirror_mode": {
    "name": "ipython",
    "version": 3
   },
   "file_extension": ".py",
   "mimetype": "text/x-python",
   "name": "python",
   "nbconvert_exporter": "python",
   "pygments_lexer": "ipython3",
   "version": "3.11.9"
  }
 },
 "nbformat": 4,
 "nbformat_minor": 5
}
