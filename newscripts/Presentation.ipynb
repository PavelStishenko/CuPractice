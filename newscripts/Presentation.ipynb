{
 "cells": [
  {
   "cell_type": "code",
   "execution_count": 10,
   "id": "c00b39d0-3911-4a59-a18b-d1afaae9cb8d",
   "metadata": {},
   "outputs": [
    {
     "data": {
      "text/plain": [
       "<Popen: returncode: None args: ['/home/lana/ve/bin/python3', '-m', 'ase', 'g...>"
      ]
     },
     "execution_count": 10,
     "metadata": {},
     "output_type": "execute_result"
    }
   ],
   "source": [
    "from ase.visualize import view\n",
    "from ase.io import read\n",
    "test=read('/home/lana/Documents/Cuterm4x4constrained4.traj@-1')\n",
    "view(test)"
   ]
  },
  {
   "cell_type": "code",
   "execution_count": 28,
   "id": "a607c551-e15c-411a-a993-baf9e1ab8240",
   "metadata": {},
   "outputs": [
    {
     "ename": "TypeError",
     "evalue": "'NoneType' object is not iterable",
     "output_type": "error",
     "traceback": [
      "\u001b[0;31m---------------------------------------------------------------------------\u001b[0m",
      "\u001b[0;31mTypeError\u001b[0m                                 Traceback (most recent call last)",
      "Cell \u001b[0;32mIn[28], line 90\u001b[0m\n\u001b[1;32m     87\u001b[0m \u001b[38;5;66;03m#slabads=slab.add_adsorbate(cu2o11, SO4, height, position=(0, 0), offset=None, mol_index=0)\u001b[39;00m\n\u001b[1;32m     89\u001b[0m slabads\u001b[38;5;241m=\u001b[39m add_adsorbate(slab, Sulphate , height\u001b[38;5;241m=\u001b[39m\u001b[38;5;241m1.0\u001b[39m, position\u001b[38;5;241m=\u001b[39m(\u001b[38;5;241m0\u001b[39m,\u001b[38;5;241m0\u001b[39m), offset\u001b[38;5;241m=\u001b[39m\u001b[38;5;28;01mNone\u001b[39;00m, mol_index\u001b[38;5;241m=\u001b[39m\u001b[38;5;241m0\u001b[39m)\n\u001b[0;32m---> 90\u001b[0m \u001b[43mview\u001b[49m\u001b[43m(\u001b[49m\u001b[43mslabads\u001b[49m\u001b[43m)\u001b[49m\n",
      "File \u001b[0;32m~/ve/lib64/python3.11/site-packages/ase/visualize/__init__.py:10\u001b[0m, in \u001b[0;36mview\u001b[0;34m(atoms, data, viewer, repeat, block)\u001b[0m\n\u001b[1;32m      7\u001b[0m     \u001b[38;5;28;01mreturn\u001b[39;00m\n\u001b[1;32m      9\u001b[0m vwr \u001b[38;5;241m=\u001b[39m viewers[viewer\u001b[38;5;241m.\u001b[39mlower()]\n\u001b[0;32m---> 10\u001b[0m handle \u001b[38;5;241m=\u001b[39m \u001b[43mvwr\u001b[49m\u001b[38;5;241;43m.\u001b[39;49m\u001b[43mview\u001b[49m\u001b[43m(\u001b[49m\u001b[43matoms\u001b[49m\u001b[43m,\u001b[49m\u001b[43m \u001b[49m\u001b[43mdata\u001b[49m\u001b[38;5;241;43m=\u001b[39;49m\u001b[43mdata\u001b[49m\u001b[43m,\u001b[49m\u001b[43m \u001b[49m\u001b[43mrepeat\u001b[49m\u001b[38;5;241;43m=\u001b[39;49m\u001b[43mrepeat\u001b[49m\u001b[43m)\u001b[49m\n\u001b[1;32m     12\u001b[0m \u001b[38;5;28;01mif\u001b[39;00m block \u001b[38;5;129;01mand\u001b[39;00m \u001b[38;5;28mhasattr\u001b[39m(handle, \u001b[38;5;124m'\u001b[39m\u001b[38;5;124mwait\u001b[39m\u001b[38;5;124m'\u001b[39m):\n\u001b[1;32m     13\u001b[0m     status \u001b[38;5;241m=\u001b[39m handle\u001b[38;5;241m.\u001b[39mwait()\n",
      "File \u001b[0;32m~/ve/lib64/python3.11/site-packages/ase/visualize/external.py:101\u001b[0m, in \u001b[0;36mPyViewer.view\u001b[0;34m(self, atoms, data, repeat)\u001b[0m\n\u001b[1;32m     99\u001b[0m func \u001b[38;5;241m=\u001b[39m \u001b[38;5;28mgetattr\u001b[39m(\u001b[38;5;28mself\u001b[39m, \u001b[38;5;28mself\u001b[39m\u001b[38;5;241m.\u001b[39mname)\n\u001b[1;32m    100\u001b[0m \u001b[38;5;28;01mif\u001b[39;00m \u001b[38;5;28mself\u001b[39m\u001b[38;5;241m.\u001b[39msupports_repeat:\n\u001b[0;32m--> 101\u001b[0m     \u001b[38;5;28;01mreturn\u001b[39;00m \u001b[43mfunc\u001b[49m\u001b[43m(\u001b[49m\u001b[43matoms\u001b[49m\u001b[43m,\u001b[49m\u001b[43m \u001b[49m\u001b[43mrepeat\u001b[49m\u001b[43m)\u001b[49m\n\u001b[1;32m    102\u001b[0m \u001b[38;5;28;01melse\u001b[39;00m:\n\u001b[1;32m    103\u001b[0m     \u001b[38;5;28;01mif\u001b[39;00m repeat \u001b[38;5;129;01mis\u001b[39;00m \u001b[38;5;129;01mnot\u001b[39;00m \u001b[38;5;28;01mNone\u001b[39;00m:\n",
      "File \u001b[0;32m~/ve/lib64/python3.11/site-packages/ase/visualize/external.py:120\u001b[0m, in \u001b[0;36mPyViewer.ase\u001b[0;34m(self, atoms, repeat)\u001b[0m\n\u001b[1;32m    119\u001b[0m \u001b[38;5;28;01mdef\u001b[39;00m \u001b[38;5;21mase\u001b[39m(\u001b[38;5;28mself\u001b[39m, atoms, repeat):\n\u001b[0;32m--> 120\u001b[0m     \u001b[38;5;28;01mreturn\u001b[39;00m \u001b[43m_pipe_to_ase_gui\u001b[49m\u001b[43m(\u001b[49m\u001b[43matoms\u001b[49m\u001b[43m,\u001b[49m\u001b[43m \u001b[49m\u001b[43mrepeat\u001b[49m\u001b[43m)\u001b[49m\n",
      "File \u001b[0;32m~/ve/lib64/python3.11/site-packages/ase/visualize/external.py:15\u001b[0m, in \u001b[0;36m_pipe_to_ase_gui\u001b[0;34m(atoms, repeat)\u001b[0m\n\u001b[1;32m     13\u001b[0m \u001b[38;5;28;01mdef\u001b[39;00m \u001b[38;5;21m_pipe_to_ase_gui\u001b[39m(atoms, repeat):\n\u001b[1;32m     14\u001b[0m     buf \u001b[38;5;241m=\u001b[39m BytesIO()\n\u001b[0;32m---> 15\u001b[0m     \u001b[43mwrite\u001b[49m\u001b[43m(\u001b[49m\u001b[43mbuf\u001b[49m\u001b[43m,\u001b[49m\u001b[43m \u001b[49m\u001b[43matoms\u001b[49m\u001b[43m,\u001b[49m\u001b[43m \u001b[49m\u001b[38;5;28;43mformat\u001b[39;49m\u001b[38;5;241;43m=\u001b[39;49m\u001b[38;5;124;43m'\u001b[39;49m\u001b[38;5;124;43mtraj\u001b[39;49m\u001b[38;5;124;43m'\u001b[39;49m\u001b[43m)\u001b[49m\n\u001b[1;32m     17\u001b[0m     args \u001b[38;5;241m=\u001b[39m [sys\u001b[38;5;241m.\u001b[39mexecutable, \u001b[38;5;124m'\u001b[39m\u001b[38;5;124m-m\u001b[39m\u001b[38;5;124m'\u001b[39m, \u001b[38;5;124m'\u001b[39m\u001b[38;5;124mase\u001b[39m\u001b[38;5;124m'\u001b[39m, \u001b[38;5;124m'\u001b[39m\u001b[38;5;124mgui\u001b[39m\u001b[38;5;124m'\u001b[39m, \u001b[38;5;124m'\u001b[39m\u001b[38;5;124m-\u001b[39m\u001b[38;5;124m'\u001b[39m]\n\u001b[1;32m     18\u001b[0m     \u001b[38;5;28;01mif\u001b[39;00m repeat:\n",
      "File \u001b[0;32m~/ve/lib64/python3.11/site-packages/ase/io/formats.py:628\u001b[0m, in \u001b[0;36mwrite\u001b[0;34m(filename, images, format, parallel, append, **kwargs)\u001b[0m\n\u001b[1;32m    624\u001b[0m \u001b[38;5;28mformat\u001b[39m \u001b[38;5;241m=\u001b[39m \u001b[38;5;28mformat\u001b[39m \u001b[38;5;129;01mor\u001b[39;00m \u001b[38;5;124m'\u001b[39m\u001b[38;5;124mjson\u001b[39m\u001b[38;5;124m'\u001b[39m  \u001b[38;5;66;03m# default is json\u001b[39;00m\n\u001b[1;32m    626\u001b[0m io \u001b[38;5;241m=\u001b[39m get_ioformat(\u001b[38;5;28mformat\u001b[39m)\n\u001b[0;32m--> 628\u001b[0m \u001b[38;5;28;01mreturn\u001b[39;00m \u001b[43m_write\u001b[49m\u001b[43m(\u001b[49m\u001b[43mfilename\u001b[49m\u001b[43m,\u001b[49m\u001b[43m \u001b[49m\u001b[43mfd\u001b[49m\u001b[43m,\u001b[49m\u001b[43m \u001b[49m\u001b[38;5;28;43mformat\u001b[39;49m\u001b[43m,\u001b[49m\u001b[43m \u001b[49m\u001b[43mio\u001b[49m\u001b[43m,\u001b[49m\u001b[43m \u001b[49m\u001b[43mimages\u001b[49m\u001b[43m,\u001b[49m\n\u001b[1;32m    629\u001b[0m \u001b[43m              \u001b[49m\u001b[43mparallel\u001b[49m\u001b[38;5;241;43m=\u001b[39;49m\u001b[43mparallel\u001b[49m\u001b[43m,\u001b[49m\u001b[43m \u001b[49m\u001b[43mappend\u001b[49m\u001b[38;5;241;43m=\u001b[39;49m\u001b[43mappend\u001b[49m\u001b[43m,\u001b[49m\u001b[43m \u001b[49m\u001b[38;5;241;43m*\u001b[39;49m\u001b[38;5;241;43m*\u001b[39;49m\u001b[43mkwargs\u001b[49m\u001b[43m)\u001b[49m\n",
      "File \u001b[0;32m~/ve/lib64/python3.11/site-packages/ase/parallel.py:244\u001b[0m, in \u001b[0;36mparallel_function.<locals>.new_func\u001b[0;34m(*args, **kwargs)\u001b[0m\n\u001b[1;32m    238\u001b[0m \u001b[38;5;129m@functools\u001b[39m\u001b[38;5;241m.\u001b[39mwraps(func)\n\u001b[1;32m    239\u001b[0m \u001b[38;5;28;01mdef\u001b[39;00m \u001b[38;5;21mnew_func\u001b[39m(\u001b[38;5;241m*\u001b[39margs, \u001b[38;5;241m*\u001b[39m\u001b[38;5;241m*\u001b[39mkwargs):\n\u001b[1;32m    240\u001b[0m     \u001b[38;5;28;01mif\u001b[39;00m (world\u001b[38;5;241m.\u001b[39msize \u001b[38;5;241m==\u001b[39m \u001b[38;5;241m1\u001b[39m \u001b[38;5;129;01mor\u001b[39;00m\n\u001b[1;32m    241\u001b[0m         args \u001b[38;5;129;01mand\u001b[39;00m \u001b[38;5;28mgetattr\u001b[39m(args[\u001b[38;5;241m0\u001b[39m], \u001b[38;5;124m'\u001b[39m\u001b[38;5;124mserial\u001b[39m\u001b[38;5;124m'\u001b[39m, \u001b[38;5;28;01mFalse\u001b[39;00m) \u001b[38;5;129;01mor\u001b[39;00m\n\u001b[1;32m    242\u001b[0m         \u001b[38;5;129;01mnot\u001b[39;00m kwargs\u001b[38;5;241m.\u001b[39mpop(\u001b[38;5;124m'\u001b[39m\u001b[38;5;124mparallel\u001b[39m\u001b[38;5;124m'\u001b[39m, \u001b[38;5;28;01mTrue\u001b[39;00m)):\n\u001b[1;32m    243\u001b[0m         \u001b[38;5;66;03m# Disable:\u001b[39;00m\n\u001b[0;32m--> 244\u001b[0m         \u001b[38;5;28;01mreturn\u001b[39;00m \u001b[43mfunc\u001b[49m\u001b[43m(\u001b[49m\u001b[38;5;241;43m*\u001b[39;49m\u001b[43margs\u001b[49m\u001b[43m,\u001b[49m\u001b[43m \u001b[49m\u001b[38;5;241;43m*\u001b[39;49m\u001b[38;5;241;43m*\u001b[39;49m\u001b[43mkwargs\u001b[49m\u001b[43m)\u001b[49m\n\u001b[1;32m    246\u001b[0m     ex \u001b[38;5;241m=\u001b[39m \u001b[38;5;28;01mNone\u001b[39;00m\n\u001b[1;32m    247\u001b[0m     result \u001b[38;5;241m=\u001b[39m \u001b[38;5;28;01mNone\u001b[39;00m\n",
      "File \u001b[0;32m~/ve/lib64/python3.11/site-packages/ase/io/formats.py:664\u001b[0m, in \u001b[0;36m_write\u001b[0;34m(filename, fd, format, io, images, parallel, append, **kwargs)\u001b[0m\n\u001b[1;32m    661\u001b[0m         fd \u001b[38;5;241m=\u001b[39m open_with_compression(filename, mode)\n\u001b[1;32m    662\u001b[0m         \u001b[38;5;66;03m# XXX remember to re-enable compressed open\u001b[39;00m\n\u001b[1;32m    663\u001b[0m         \u001b[38;5;66;03m# fd = io.open(filename, mode)\u001b[39;00m\n\u001b[0;32m--> 664\u001b[0m     \u001b[38;5;28;01mreturn\u001b[39;00m \u001b[43mio\u001b[49m\u001b[38;5;241;43m.\u001b[39;49m\u001b[43mwrite\u001b[49m\u001b[43m(\u001b[49m\u001b[43mfd\u001b[49m\u001b[43m,\u001b[49m\u001b[43m \u001b[49m\u001b[43mimages\u001b[49m\u001b[43m,\u001b[49m\u001b[43m \u001b[49m\u001b[38;5;241;43m*\u001b[39;49m\u001b[38;5;241;43m*\u001b[39;49m\u001b[43mkwargs\u001b[49m\u001b[43m)\u001b[49m\n\u001b[1;32m    665\u001b[0m \u001b[38;5;28;01mfinally\u001b[39;00m:\n\u001b[1;32m    666\u001b[0m     \u001b[38;5;28;01mif\u001b[39;00m open_new \u001b[38;5;129;01mand\u001b[39;00m fd \u001b[38;5;129;01mis\u001b[39;00m \u001b[38;5;129;01mnot\u001b[39;00m \u001b[38;5;28;01mNone\u001b[39;00m:\n",
      "File \u001b[0;32m~/ve/lib64/python3.11/site-packages/ase/io/formats.py:191\u001b[0m, in \u001b[0;36mIOFormat._write_wrapper\u001b[0;34m(self, *args, **kwargs)\u001b[0m\n\u001b[1;32m    189\u001b[0m \u001b[38;5;28;01mif\u001b[39;00m function \u001b[38;5;129;01mis\u001b[39;00m \u001b[38;5;28;01mNone\u001b[39;00m:\n\u001b[1;32m    190\u001b[0m     \u001b[38;5;28;01mraise\u001b[39;00m \u001b[38;5;167;01mValueError\u001b[39;00m(\u001b[38;5;124mf\u001b[39m\u001b[38;5;124m'\u001b[39m\u001b[38;5;124mCannot write to \u001b[39m\u001b[38;5;132;01m{\u001b[39;00m\u001b[38;5;28mself\u001b[39m\u001b[38;5;241m.\u001b[39mname\u001b[38;5;132;01m}\u001b[39;00m\u001b[38;5;124m-format\u001b[39m\u001b[38;5;124m'\u001b[39m)\n\u001b[0;32m--> 191\u001b[0m \u001b[38;5;28;01mreturn\u001b[39;00m \u001b[43mfunction\u001b[49m\u001b[43m(\u001b[49m\u001b[38;5;241;43m*\u001b[39;49m\u001b[43margs\u001b[49m\u001b[43m,\u001b[49m\u001b[43m \u001b[49m\u001b[38;5;241;43m*\u001b[39;49m\u001b[38;5;241;43m*\u001b[39;49m\u001b[43mkwargs\u001b[49m\u001b[43m)\u001b[49m\n",
      "File \u001b[0;32m~/ve/lib64/python3.11/site-packages/ase/io/trajectory.py:414\u001b[0m, in \u001b[0;36mwrite_traj\u001b[0;34m(fd, images)\u001b[0m\n\u001b[1;32m    412\u001b[0m \u001b[38;5;28;01mif\u001b[39;00m \u001b[38;5;28misinstance\u001b[39m(images, Atoms):\n\u001b[1;32m    413\u001b[0m     images \u001b[38;5;241m=\u001b[39m [images]\n\u001b[0;32m--> 414\u001b[0m \u001b[43m\u001b[49m\u001b[38;5;28;43;01mfor\u001b[39;49;00m\u001b[43m \u001b[49m\u001b[43matoms\u001b[49m\u001b[43m \u001b[49m\u001b[38;5;129;43;01min\u001b[39;49;00m\u001b[43m \u001b[49m\u001b[43mimages\u001b[49m\u001b[43m:\u001b[49m\n\u001b[1;32m    415\u001b[0m \u001b[43m    \u001b[49m\u001b[43mtrj\u001b[49m\u001b[38;5;241;43m.\u001b[39;49m\u001b[43mwrite\u001b[49m\u001b[43m(\u001b[49m\u001b[43matoms\u001b[49m\u001b[43m)\u001b[49m\n",
      "\u001b[0;31mTypeError\u001b[0m: 'NoneType' object is not iterable"
     ]
    }
   ],
   "source": [
    "from ase import Atoms\n",
    "from mace.calculators import mace_mp\n",
    "from ase.build import surface\n",
    "from ase.constraints import FixAtoms, UnitCellFilter\n",
    "from ase.optimize import QuasiNewton\n",
    "from ase.visualize import view\n",
    "from ase.io import read, write\n",
    "from ase.optimize import LBFGS\n",
    "import numpy as np\n",
    "from ase.build import add_adsorbate\n",
    "from ase.data.pubchem import pubchem_atoms_search\n",
    "from ase.build.supercells import make_supercell\n",
    "import pandas as pd\n",
    "from tabulate import tabulate\n",
    "from cu2o_bulk_colab import cu2o_bulk, CutermNO3, CuD_FCC111,STNO3, STO_FCC111,CuDO_FCC111, py111, Oterm1x1, Cuterm1x1, slab3011, dimer1x1, c2x2, ST4x4, Cuterm4x4, cu2o111,Cuterm1x1, hollow_Cuterm,cu2o100, Bridge_STCl_CuCu ,Bridge_STCl_CuO,atop_unsatCu_STCl, atop_satCu_STCl\n",
    "\n",
    "cif=read('/home/lana/Downloads/9007497.cif') ##same as bulk\n",
    "#view(cif)\n",
    "\n",
    "bulk = cu2o_bulk() ##same as cif\n",
    "#view(bulk)\n",
    "\n",
    "slab111 = cu2o111(bulk,n_layers=3,vacuum=10) \n",
    "#view(slab111)\n",
    "\n",
    "CuD111=CuD_FCC111(bulk,3, 10) ##Structure is not complete as oxygens are too high - easily fixed though!\n",
    "#view(CuD111)\n",
    "\n",
    "STO111=STO_FCC111(bulk, n_layers=3, vacuum=10)\n",
    "#view(STO111)\n",
    "\n",
    "CuDO111=CuDO_FCC111(bulk,3,10)\n",
    "write('CuDO111.xyz', CuDO111)\n",
    "#view(CuDO111)\n",
    "\n",
    "Py111= py111(bulk,3,10)\n",
    "#view(Py111)\n",
    "\n",
    "slab100 = cu2o100(bulk,3,10)\n",
    "#view(slab100)\n",
    "\n",
    "OTerm100= Oterm1x1(bulk,3,10)\n",
    "#view(OTerm100)\n",
    "\n",
    "CuTerm100= Cuterm1x1(bulk,3,10)\n",
    "#view(CuTerm100)\n",
    "\n",
    "paperCuTerm100=read('/home/lana/Cuterm1x1.xyz')\n",
    "#view(paperCuTerm100)\n",
    "\n",
    "slab3011 = slab3011 (bulk, 3, 10)\n",
    "#view(slab3011)\n",
    "#write('slab3011.xyz', slab3011)\n",
    "\n",
    "dimer100=dimer1x1(bulk,3,10) ##incomplete\n",
    "#view(dimer100)\n",
    "\n",
    "c2x2=c2x2(bulk,3,10)\n",
    "#view(c2x2)\n",
    "\n",
    "STCl_CuO_bridge= Bridge_STCl_CuO(bulk,n_layers=3,vacuum=10,Cl_X_position=0,Cl_Y_position=0,Cl_Z_position=5.5) ##depends on n_layers!! Is 4x4 supercell\n",
    "#view(STCl_CuO_bridge)\n",
    "#write('STCl_CuO_bridge.xyz', STCl_CuO_bridge)\n",
    "\n",
    "Cuterm4x4= Cuterm4x4(bulk,3,10)\n",
    "#view(Cuterm4x4)\n",
    "#write('Cuterm4x4.xyz',Cuterm4x4)\n",
    "\n",
    "Cu_bridge= hollow_Cuterm(bulk,4,10,0,0,9)\n",
    "#view(Cu_bridge)\n",
    "#write('Cu_Bridge_Cuterm4x4.xyz', Cu_bridge)\n",
    "\n",
    "STNO3=STNO3(bulk,n_layers=3,vacuum=10,NO3_Z_position=4)\n",
    "#view(STNO3)\n",
    "\n",
    "CutermNO3=CutermNO3(bulk,n_layers=3,vacuum=10,NO3_Z_position=8)\n",
    "#view(CutermNO3)\n",
    "\n",
    "#adsorbate practice\n",
    "slab = cu2o111(bulk, n_layers=3, vacuum=10)\n",
    "Acetate = pubchem_atoms_search(name='acetate')\n",
    "SO4=pubchem_atoms_search(name='sulphate')\n",
    "write('SO4.xyz',SO4)\n",
    "\n",
    "Sulphate=read('SO4.xyz')\n",
    "\n",
    "#slabads=slab.add_adsorbate(cu2o11, SO4, height, position=(0, 0), offset=None, mol_index=0)\n",
    "\n",
    "slabads= add_adsorbate(slab, Sulphate , height=1.0, position=(0,0), offset=None, mol_index=0)\n",
    "view(slabads)\n",
    "\n",
    "\n",
    "\n"
   ]
  }
 ],
 "metadata": {
  "kernelspec": {
   "display_name": "Python 3 (ipykernel)",
   "language": "python",
   "name": "python3"
  },
  "language_info": {
   "codemirror_mode": {
    "name": "ipython",
    "version": 3
   },
   "file_extension": ".py",
   "mimetype": "text/x-python",
   "name": "python",
   "nbconvert_exporter": "python",
   "pygments_lexer": "ipython3",
   "version": "3.11.9"
  }
 },
 "nbformat": 4,
 "nbformat_minor": 5
}
