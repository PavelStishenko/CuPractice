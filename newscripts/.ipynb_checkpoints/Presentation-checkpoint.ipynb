{
 "cells": [
  {
   "cell_type": "code",
   "execution_count": 10,
   "id": "c00b39d0-3911-4a59-a18b-d1afaae9cb8d",
   "metadata": {},
   "outputs": [
    {
     "data": {
      "text/plain": [
       "<Popen: returncode: None args: ['/home/lana/ve/bin/python3', '-m', 'ase', 'g...>"
      ]
     },
     "execution_count": 10,
     "metadata": {},
     "output_type": "execute_result"
    }
   ],
   "source": [
    "from ase.visualize import view\n",
    "from ase.io import read\n",
    "test=read('/home/lana/Documents/Cuterm4x4constrained4.traj@-1')\n",
    "view(test)"
   ]
  },
  {
   "cell_type": "code",
   "execution_count": 1,
   "id": "a607c551-e15c-411a-a993-baf9e1ab8240",
   "metadata": {},
   "outputs": [
    {
     "data": {
      "text/plain": [
       "<Popen: returncode: None args: ['/home/lana/ve/bin/python3', '-m', 'ase', 'g...>"
      ]
     },
     "execution_count": 1,
     "metadata": {},
     "output_type": "execute_result"
    }
   ],
   "source": [
    "from ase import Atoms\n",
    "from mace.calculators import mace_mp\n",
    "from ase.build import surface\n",
    "from ase.constraints import FixAtoms, UnitCellFilter\n",
    "from ase.optimize import QuasiNewton\n",
    "from ase.visualize import view\n",
    "from ase.io import read, write\n",
    "from ase.optimize import LBFGS\n",
    "import numpy as np\n",
    "from ase.build.supercells import make_supercell\n",
    "import pandas as pd\n",
    "from tabulate import tabulate\n",
    "from cu2o_bulk_colab import cu2o_bulk, CuD_FCC111,STNO3, STO_FCC111,CuDO_FCC111, py111, Oterm1x1, Cuterm1x1, slab3011, dimer1x1, c2x2, ST4x4, Cuterm4x4, cu2o111,Cuterm1x1, hollow_Cuterm,cu2o100, Bridge_STCl_CuCu ,Bridge_STCl_CuO,atop_unsatCu_STCl, atop_satCu_STCl\n",
    "\n",
    "cif=read('/home/lana/Downloads/9007497.cif') ##same as bulk\n",
    "#view(cif)\n",
    "\n",
    "bulk = cu2o_bulk() ##same as cif\n",
    "#view(bulk)\n",
    "\n",
    "slab111 = cu2o111(bulk,n_layers=3,vacuum=10) \n",
    "#view(slab111)\n",
    "\n",
    "CuD111=CuD_FCC111(bulk,3, 10) ##Structure is not complete as oxygens are too high - easily fixed though!\n",
    "#view(CuD111)\n",
    "\n",
    "STO111=STO_FCC111(bulk, n_layers=3, vacuum=10)\n",
    "#view(STO111)\n",
    "\n",
    "CuDO111=CuDO_FCC111(bulk,3,10)\n",
    "write('CuDO111.xyz', CuDO111)\n",
    "#view(CuDO111)\n",
    "\n",
    "Py111= py111(bulk,3,10)\n",
    "#view(Py111)\n",
    "\n",
    "slab100 = cu2o100(bulk,3,10)\n",
    "#view(slab100)\n",
    "\n",
    "OTerm100= Oterm1x1(bulk,3,10)\n",
    "#view(OTerm100)\n",
    "\n",
    "CuTerm100= Cuterm1x1(bulk,3,10)\n",
    "#view(CuTerm100)\n",
    "\n",
    "paperCuTerm100=read('/home/lana/Cuterm1x1.xyz')\n",
    "#view(paperCuTerm100)\n",
    "\n",
    "slab3011 = slab3011 (bulk, 3, 10)\n",
    "#view(slab3011)\n",
    "#write('slab3011.xyz', slab3011)\n",
    "\n",
    "dimer100=dimer1x1(bulk,3,10) ##incomplete\n",
    "#view(dimer100)\n",
    "\n",
    "c2x2=c2x2(bulk,3,10)\n",
    "#view(c2x2)\n",
    "\n",
    "STCl_CuO_bridge= Bridge_STCl_CuO(bulk,n_layers=3,vacuum=10,Cl_X_position=0,Cl_Y_position=0,Cl_Z_position=5.5) ##depends on n_layers!! Is 4x4 supercell\n",
    "#view(STCl_CuO_bridge)\n",
    "#write('STCl_CuO_bridge.xyz', STCl_CuO_bridge)\n",
    "\n",
    "Cuterm4x4= Cuterm4x4(bulk,3,10)\n",
    "#view(Cuterm4x4)\n",
    "#write('Cuterm4x4.xyz',Cuterm4x4)\n",
    "\n",
    "Cu_bridge= hollow_Cuterm(bulk,4,10,0,0,9)\n",
    "#view(Cu_bridge)\n",
    "#write('Cu_Bridge_Cuterm4x4.xyz', Cu_bridge)\n",
    "\n",
    "STNO3=STNO3(bulk,n_layers=3,vacuum=10,N_Z_position=6, O_Z_position=6)\n",
    "#view(STNO3)\n",
    "\n",
    "CutermNO3=CutermNO3(bulk,n_layers=3,vacuum=10,N_Z_position=6, O_Z_position=6)\n",
    "view(CutermNO3)"
   ]
  }
 ],
 "metadata": {
  "kernelspec": {
   "display_name": "Python 3 (ipykernel)",
   "language": "python",
   "name": "python3"
  },
  "language_info": {
   "codemirror_mode": {
    "name": "ipython",
    "version": 3
   },
   "file_extension": ".py",
   "mimetype": "text/x-python",
   "name": "python",
   "nbconvert_exporter": "python",
   "pygments_lexer": "ipython3",
   "version": "3.11.9"
  }
 },
 "nbformat": 4,
 "nbformat_minor": 5
}
