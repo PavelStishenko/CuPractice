{
 "cells": [
  {
   "cell_type": "code",
   "execution_count": 1,
   "id": "cc07ec3d-7199-4e0b-9918-78b652236ae0",
   "metadata": {},
   "outputs": [
    {
     "name": "stdout",
     "output_type": "stream",
     "text": [
      "Using Materials Project MACE for MACECalculator with /home/lana/.cache/mace/5yyxdm76\n",
      "Using float64 for MACECalculator, which is slower but more accurate. Recommended for geometry optimization.\n",
      "       Step     Time          Energy         fmax\n",
      "*Force-consistent energies used in optimization.\n",
      "LBFGS:    0 10:42:52      -28.749845*       0.0015\n"
     ]
    },
    {
     "data": {
      "text/plain": [
       "<Popen: returncode: None args: ['/home/lana/ve/bin/python3', '-m', 'ase', 'g...>"
      ]
     },
     "execution_count": 1,
     "metadata": {},
     "output_type": "execute_result"
    }
   ],
   "source": [
    "from ase.io import read, write\n",
    "from mace.calculators import mace_mp\n",
    "from ase.build import surface\n",
    "from ase.visualize import view\n",
    "from ase.constraints import FixAtoms, UnitCellFilter\n",
    "from ase.build import bulk\n",
    "import numpy as np\n",
    "from ase.optimize import LBFGS\n",
    "\n",
    "x = read('/home/lana/Downloads/9007497.cif')\n",
    "x.calc = mace_mp(model=\"medium\", dispersion=False, default_dtype=\"float64\", device='cpu')\n",
    "ucf = UnitCellFilter(x)\n",
    "qn = LBFGS(ucf, trajectory='bulk_rlx.traj')\n",
    "qn.run(fmax=0.01)\n",
    "E_x = x.get_potential_energy()\n",
    "t = read('bulk_rlx.traj@:')\n",
    "view(t)"
   ]
  },
  {
   "cell_type": "code",
   "execution_count": 29,
   "id": "505d8257-38fa-4ad0-a9fe-5b6ab5b2694a",
   "metadata": {},
   "outputs": [
    {
     "name": "stdout",
     "output_type": "stream",
     "text": [
      "Using Materials Project MACE for MACECalculator with /home/lana/.cache/mace/5yyxdm76\n",
      "Using float64 for MACECalculator, which is slower but more accurate. Recommended for geometry optimization.\n",
      "Using Materials Project MACE for MACECalculator with /home/lana/.cache/mace/5yyxdm76\n",
      "Using float64 for MACECalculator, which is slower but more accurate. Recommended for geometry optimization.\n",
      "n_layers=2 E_cleav=0.1000247721074349\n",
      "       Step     Time          Energy         fmax\n",
      "*Force-consistent energies used in optimization.\n",
      "LBFGS:    0 12:47:19      -51.152397*       1.3559\n",
      "LBFGS:    1 12:47:19      -51.230513*       1.1450\n",
      "LBFGS:    2 12:47:19      -51.497881*       0.6783\n",
      "LBFGS:    3 12:47:20      -51.642747*       0.5408\n",
      "LBFGS:    4 12:47:20      -51.675589*       0.5726\n",
      "LBFGS:    5 12:47:20      -51.697492*       0.5045\n",
      "LBFGS:    6 12:47:20      -51.769656*       0.4229\n",
      "LBFGS:    7 12:47:21      -51.833494*       0.5629\n",
      "LBFGS:    8 12:47:21      -51.865681*       0.7308\n",
      "LBFGS:    9 12:47:21      -51.889897*       0.5145\n",
      "LBFGS:   10 12:47:21      -51.904074*       0.4330\n",
      "LBFGS:   11 12:47:22      -51.948429*       0.3560\n",
      "LBFGS:   12 12:47:22      -51.953298*       0.2866\n",
      "LBFGS:   13 12:47:22      -51.956117*       0.2240\n",
      "LBFGS:   14 12:47:22      -51.959579*       0.1399\n",
      "LBFGS:   15 12:47:22      -51.962622*       0.0799\n",
      "LBFGS:   16 12:47:23      -51.964094*       0.0349\n",
      "LBFGS:   17 12:47:23      -51.964420*       0.0136\n",
      "LBFGS:   18 12:47:23      -51.964428*       0.0026\n",
      "n_layers=2 E_surf=0.08722826173300216\n"
     ]
    }
   ],
   "source": [
    "from ase import Atoms\n",
    "from mace.calculators import mace_mp\n",
    "from ase.build import surface\n",
    "from ase.constraints import FixAtoms, UnitCellFilter\n",
    "from ase.optimize import QuasiNewton\n",
    "from ase.visualize import view\n",
    "from ase.io import read, write\n",
    "from ase.optimize import LBFGS\n",
    "import numpy as np\n",
    "\n",
    "\n",
    "def cu2o_bulk():\n",
    "  return read('bulk_rlx.traj')\n",
    "\n",
    "b = cu2o_bulk()\n",
    "b.calc = mace_mp(model=\"medium\", dispersion=False, default_dtype=\"float64\", device='cpu')\n",
    "E_bulk = b.get_potential_energy()\n",
    "\n",
    "\n",
    "def cu2o111(n_slab, vacuum):\n",
    "  x = cu2o_bulk()\n",
    "  x.translate([0.1, 0.1, 0])\n",
    "  slab = surface(x, (1,1,1), n_slab, vacuum=vacuum, periodic=True)  \n",
    "  return slab \n",
    "\n",
    "\n",
    "n_layers = 2\n",
    "slab = cu2o111(n_layers, 10)\n",
    "\n",
    "#view(slab)\n",
    "write('slab.xyz', slab)\n",
    "\n",
    "\n",
    "slab.calc = mace_mp(model=\"medium\", dispersion=False, default_dtype=\"float64\", device='cpu')\n",
    "\n",
    "E_slab = slab.get_potential_energy()\n",
    "E_cleav = (E_slab - E_bulk * n_layers) / 2 / np.linalg.det(slab.cell[:2, :2])\n",
    "print(f'{n_layers=} {E_cleav=}')\n",
    "\n",
    "bottom_Cu_z = np.min(slab[slab.symbols=='Cu'].positions[:,2])\n",
    "slab.set_constraint(FixAtoms(mask=slab.positions[:, 2] < bottom_Cu_z + 1.0))\n",
    "qn = LBFGS(slab, trajectory='111slab.traj')\n",
    "qn.run(fmax=0.01)\n",
    "E_slab = slab.get_potential_energy()\n",
    "t = read('111slab.traj@:')\n",
    "atoms = t[-1]\n",
    "#view(t)\n",
    "\n",
    "del atoms[atoms.positions[:, 2] > 14.0]\n",
    "view(atoms)\n",
    "\n",
    "\n",
    "\n",
    "   \n",
    "E_surf = (E_slab - E_bulk * n_layers) / 2 / np.linalg.det(slab.cell[:2, :2])\n",
    "print(f'{n_layers=} {E_surf=}')\n"
   ]
  },
  {
   "cell_type": "code",
   "execution_count": null,
   "id": "454d8cfb-9139-43fb-baef-e753faedbee9",
   "metadata": {},
   "outputs": [],
   "source": []
  }
 ],
 "metadata": {
  "kernelspec": {
   "display_name": "Python 3 (ipykernel)",
   "language": "python",
   "name": "python3"
  },
  "language_info": {
   "codemirror_mode": {
    "name": "ipython",
    "version": 3
   },
   "file_extension": ".py",
   "mimetype": "text/x-python",
   "name": "python",
   "nbconvert_exporter": "python",
   "pygments_lexer": "ipython3",
   "version": "3.11.9"
  }
 },
 "nbformat": 4,
 "nbformat_minor": 5
}
