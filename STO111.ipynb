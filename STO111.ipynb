{
 "cells": [
  {
   "cell_type": "code",
   "execution_count": 11,
   "id": "cc07ec3d-7199-4e0b-9918-78b652236ae0",
   "metadata": {},
   "outputs": [
    {
     "name": "stdout",
     "output_type": "stream",
     "text": [
      "Using Materials Project MACE for MACECalculator with /home/lana/.cache/mace/5yyxdm76\n",
      "Using float64 for MACECalculator, which is slower but more accurate. Recommended for geometry optimization.\n",
      "       Step     Time          Energy         fmax\n",
      "*Force-consistent energies used in optimization.\n",
      "LBFGS:    0 15:07:04      -28.749845*       0.0015\n"
     ]
    },
    {
     "data": {
      "text/plain": [
       "<Popen: returncode: None args: ['/home/lana/ve/bin/python3', '-m', 'ase', 'g...>"
      ]
     },
     "execution_count": 11,
     "metadata": {},
     "output_type": "execute_result"
    }
   ],
   "source": [
    "from ase.io import read, write\n",
    "from mace.calculators import mace_mp\n",
    "from ase.build import surface\n",
    "from ase.visualize import view\n",
    "from ase.constraints import FixAtoms, UnitCellFilter\n",
    "from ase.build import bulk\n",
    "import numpy as np\n",
    "from ase.optimize import LBFGS\n",
    "\n",
    "x = read('/home/lana/Downloads/9007497.cif')\n",
    "x.calc = mace_mp(model=\"medium\", dispersion=False, default_dtype=\"float64\", device='cpu')\n",
    "ucf = UnitCellFilter(x)\n",
    "qn = LBFGS(ucf, trajectory='bulk_rlx.traj')\n",
    "qn.run(fmax=0.01)\n",
    "E_x = x.get_potential_energy()\n",
    "t = read('bulk_rlx.traj@:')\n",
    "view(t)"
   ]
  },
  {
   "cell_type": "code",
   "execution_count": 4,
   "id": "505d8257-38fa-4ad0-a9fe-5b6ab5b2694a",
   "metadata": {},
   "outputs": [
    {
     "name": "stdout",
     "output_type": "stream",
     "text": [
      "16\n"
     ]
    },
    {
     "data": {
      "text/plain": [
       "\"\\nE_slab = slab.get_potential_energy()\\nE_cleav = (E_slab - E_bulk * n_layers) / 2 / np.linalg.det(slab.cell[:2, :2])\\nprint(f'{n_layers=} {E_cleav=}')\\n\\nbottom_Cu_z = np.min(slab[slab.symbols=='Cu'].positions[:,2])\\nmask1=slab.positions[:, 2] < bottom_Cu_z + 1.0\\nslab.set_constraint(FixAtoms(mask=mask1))\\n\\nqn = LBFGS(slab, trajectory='111slab.traj')\\nqn.run(fmax=0.01)\\nE_slab = slab.get_potential_energy()\\nt = read('111slab.traj@:')\\natoms = t[-1]\\nview(atoms)\\n\\nE_surf = (E_slab - E_bulk * n_layers) / 2 / np.linalg.det(slab.cell[:2, :2])\\nprint(f'{n_layers=} {E_surf=}')\\n\""
      ]
     },
     "execution_count": 4,
     "metadata": {},
     "output_type": "execute_result"
    }
   ],
   "source": [
    "from ase import Atoms\n",
    "from mace.calculators import mace_mp\n",
    "from ase.build import surface\n",
    "from ase.constraints import FixAtoms, UnitCellFilter\n",
    "from ase.optimize import QuasiNewton\n",
    "from ase.visualize import view\n",
    "from ase.io import read, write\n",
    "from ase.optimize import LBFGS\n",
    "import numpy as np\n",
    "from cu2o_bulk import cu2o_bulk, cu2o111, STO_FCC111\n",
    "\n",
    "b = cu2o_bulk()\n",
    "\n",
    "b.calc = mace_mp(model=\"light\", dispersion=False, default_dtype=\"float64\", device='cpu')\n",
    "ucf = UnitCellFilter(b)\n",
    "LBFGS(ucf).run(fmax=0.01)\n",
    "\n",
    "\n",
    "#E_bulk = b.get_potential_energy()\n",
    "\n",
    "\n",
    "#slab = cu2o111(5, 10)\n",
    "#slab.calc = mace_mp(model=\"medium\", dispersion=False, default_dtype=\"float64\", device='cpu')\n",
    "#view(slab)\n",
    "\n",
    "\n",
    "slab = STO_FCC111(b, 3, 10)\n",
    "view(slab)\n",
    "\n",
    "\n",
    "slab.calc = mace_mp(model=\"light\", dispersion=False, default_dtype=\"float64\", device='cpu')\n",
    "\n",
    "n_layers=3\n",
    "E_slab = slab.get_potential_energy()\n",
    "E_cleav = (E_slab - E_bulk * n_layers) / 2 / np.linalg.det(slab.cell[:2, :2])\n",
    "print(f'{n_layers=} {E_cleav=}')\n",
    "\n",
    "bottom_Cu_z = np.min(slab[slab.symbols=='Cu'].positions[:,2])\n",
    "mask1=slab.positions[:, 2] < bottom_Cu_z + 1.0\n",
    "slab.set_constraint(FixAtoms(mask=mask1))\n",
    "\n",
    "qn = LBFGS(slab, trajectory='111slab.traj')\n",
    "qn.run(fmax=0.01)\n",
    "E_slab = slab.get_potential_energy()\n",
    "t = read('111slab.traj@:')\n",
    "atoms = t[-1]\n",
    "view(atoms)\n",
    "\n",
    "E_surf = (E_slab - E_bulk * n_layers) / 2 / np.linalg.det(slab.cell[:2, :2])\n",
    "print(f'{n_layers=} {E_surf=}')"
   ]
  },
  {
   "cell_type": "code",
   "execution_count": null,
   "id": "454d8cfb-9139-43fb-baef-e753faedbee9",
   "metadata": {},
   "outputs": [],
   "source": []
  }
 ],
 "metadata": {
  "kernelspec": {
   "display_name": "Python 3 (ipykernel)",
   "language": "python",
   "name": "python3"
  },
  "language_info": {
   "codemirror_mode": {
    "name": "ipython",
    "version": 3
   },
   "file_extension": ".py",
   "mimetype": "text/x-python",
   "name": "python",
   "nbconvert_exporter": "python",
   "pygments_lexer": "ipython3",
   "version": "3.11.9"
  }
 },
 "nbformat": 4,
 "nbformat_minor": 5
}
