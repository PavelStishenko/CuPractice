{
 "cells": [
  {
   "cell_type": "code",
   "execution_count": 4,
   "id": "f88c577e-272e-49c8-ab83-91cb4d22e641",
   "metadata": {},
   "outputs": [
    {
     "data": {
      "text/plain": [
       "'\\nE_slab = slab.get_potential_energy()\\nE_cleav = (E_slab - E_bulk * n_layers) / 2 / np.linalg.det(slab.cell[:2, :2])\\nprint(f\\'{n_layers=} {E_cleav=}\\')\\n\\nslab = CuDO_FCC111(n_layers=5, vacuum=10)\\n#slab.calc = mace_mp(model=\"medium\", dispersion=False, default_dtype=\"float64\", device=\\'cpu\\')\\n\\nbottom_Cu_z = np.min(slab[slab.symbols==\\'Cu\\'].positions[:,2])\\nmask1=slab.positions[:, 2] < bottom_Cu_z + 1.0\\nslab.set_constraint(FixAtoms(mask=mask1))\\n\\n#qn = LBFGS(slab, trajectory=\\'111slab.traj\\')\\n#qn.run(fmax=0.01)\\n#E_slab = slab.get_potential_energy()\\nt = read(\\'111slab.traj@:\\')\\natoms = t[-1]\\nview(atoms)\\n  \\nE_surf = (E_slab - E_bulk * n_layers) / 2 / np.linalg.det(slab.cell[:2, :2])\\nprint(f\\'{n_layers=} {E_surf=}\\')\\n'"
      ]
     },
     "execution_count": 4,
     "metadata": {},
     "output_type": "execute_result"
    }
   ],
   "source": [
    "from ase import Atoms\n",
    "from mace.calculators import mace_mp\n",
    "from ase.build import surface\n",
    "from ase.constraints import FixAtoms, UnitCellFilter\n",
    "from ase.optimize import QuasiNewton\n",
    "from ase.visualize import view\n",
    "from ase.io import read, write\n",
    "from ase.optimize import LBFGS\n",
    "import numpy as np\n",
    "from cu2o_bulk import cu2o_bulk, cu2o111, CuD_FCC111, STO_FCC111, CuDO_FCC111\n",
    "\n",
    "bulk = cu2o_bulk()\n",
    "bulk.calc = mace_mp(model=\"large\", dispersion=True, default_dtype=\"float64\", device='cuda')\n",
    "ucf = UnitCellFilter(bulk)\n",
    "LBFGS(ucf).run(fmax=0.01)\n",
    "E_bulk = bulk.get_potential_energy()\n",
    "E_bulk = bulk.get_potential_energy()\n",
    "\n",
    "n_layers=3\n",
    "slab = CuDO_FCC111(bulk, 3, 10)\n",
    "slab.calc = mace_mp(model=\"large\", dispersion=True, default_dtype=\"float64\", device='cuda')\n",
    "\n",
    "E_slab = slab.get_potential_energy()\n",
    "E_cleav = (E_slab - E_bulk * n_layers) / 2 / np.linalg.det(slab.cell[:2, :2])\n",
    "print(f'{n_layers=} {E_cleav=}')\n",
    "\n",
    "\n",
    "bottom_Cu_z = np.min(slab[slab.symbols=='Cu'].positions[:,2])\n",
    "mask1=slab.positions[:, 2] < bottom_Cu_z + 1.0\n",
    "slab.set_constraint(FixAtoms(mask=mask1))\n",
    "\n",
    "qn = LBFGS(slab, trajectory='CuDO111.traj')\n",
    "write('CuDO111.traj', slab)\n",
    "qn.run(fmax=0.01)\n",
    "E_slab = slab.get_potential_energy()\n",
    "#t = read('111slab.traj@:')\n",
    "#atoms = t[-1]\n",
    "#view(atoms)\n",
    "  \n",
    "E_surf = (E_slab - E_bulk * n_layers) / 2 / np.linalg.det(slab.cell[:2, :2])\n",
    "print(f'{n_layers=} {E_surf=}')"
   ]
  },
  {
   "cell_type": "code",
   "execution_count": null,
   "id": "5576c610-7103-4ffa-9b14-0e017c1729bf",
   "metadata": {},
   "outputs": [],
   "source": []
  }
 ],
 "metadata": {
  "kernelspec": {
   "display_name": "Python 3 (ipykernel)",
   "language": "python",
   "name": "python3"
  },
  "language_info": {
   "codemirror_mode": {
    "name": "ipython",
    "version": 3
   },
   "file_extension": ".py",
   "mimetype": "text/x-python",
   "name": "python",
   "nbconvert_exporter": "python",
   "pygments_lexer": "ipython3",
   "version": "3.11.9"
  }
 },
 "nbformat": 4,
 "nbformat_minor": 5
}
