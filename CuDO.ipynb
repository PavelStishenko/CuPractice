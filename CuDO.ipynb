{
 "cells": [
  {
   "cell_type": "code",
   "execution_count": 1,
   "id": "b7398bc4-4436-4645-afb6-f44998056d3b",
   "metadata": {},
   "outputs": [
    {
     "name": "stdout",
     "output_type": "stream",
     "text": [
      "Using Materials Project MACE for MACECalculator with /home/lana/.cache/mace/5yyxdm76\n",
      "Using float64 for MACECalculator, which is slower but more accurate. Recommended for geometry optimization.\n",
      "       Step     Time          Energy         fmax\n",
      "*Force-consistent energies used in optimization.\n",
      "LBFGS:    0 15:17:22      -28.749845*       0.0015\n"
     ]
    },
    {
     "data": {
      "text/plain": [
       "<Popen: returncode: None args: ['/home/lana/ve/bin/python3', '-m', 'ase', 'g...>"
      ]
     },
     "execution_count": 1,
     "metadata": {},
     "output_type": "execute_result"
    }
   ],
   "source": [
    "from ase.io import read, write\n",
    "from mace.calculators import mace_mp\n",
    "from ase.build import surface\n",
    "from ase.visualize import view\n",
    "from ase.constraints import FixAtoms, UnitCellFilter\n",
    "from ase.build import bulk\n",
    "import numpy as np\n",
    "from ase.optimize import LBFGS\n",
    "\n",
    "x = read('/home/lana/Downloads/9007497.cif')\n",
    "x.calc = mace_mp(model=\"medium\", dispersion=False, default_dtype=\"float64\", device='cpu')\n",
    "ucf = UnitCellFilter(x)\n",
    "qn = LBFGS(ucf, trajectory='bulk_rlx.traj')\n",
    "qn.run(fmax=0.01)\n",
    "E_x = x.get_potential_energy()\n",
    "t = read('bulk_rlx.traj@:')\n",
    "view(t)\n"
   ]
  },
  {
   "cell_type": "code",
   "execution_count": 4,
   "id": "f88c577e-272e-49c8-ab83-91cb4d22e641",
   "metadata": {},
   "outputs": [
    {
     "data": {
      "text/plain": [
       "'\\nE_slab = slab.get_potential_energy()\\nE_cleav = (E_slab - E_bulk * n_layers) / 2 / np.linalg.det(slab.cell[:2, :2])\\nprint(f\\'{n_layers=} {E_cleav=}\\')\\n\\nslab = CuDO_FCC111(n_layers=5, vacuum=10)\\n#slab.calc = mace_mp(model=\"medium\", dispersion=False, default_dtype=\"float64\", device=\\'cpu\\')\\n\\nbottom_Cu_z = np.min(slab[slab.symbols==\\'Cu\\'].positions[:,2])\\nmask1=slab.positions[:, 2] < bottom_Cu_z + 1.0\\nslab.set_constraint(FixAtoms(mask=mask1))\\n\\n#qn = LBFGS(slab, trajectory=\\'111slab.traj\\')\\n#qn.run(fmax=0.01)\\n#E_slab = slab.get_potential_energy()\\nt = read(\\'111slab.traj@:\\')\\natoms = t[-1]\\nview(atoms)\\n  \\nE_surf = (E_slab - E_bulk * n_layers) / 2 / np.linalg.det(slab.cell[:2, :2])\\nprint(f\\'{n_layers=} {E_surf=}\\')\\n'"
      ]
     },
     "execution_count": 4,
     "metadata": {},
     "output_type": "execute_result"
    }
   ],
   "source": [
    "from ase import Atoms\n",
    "from mace.calculators import mace_mp\n",
    "from ase.build import surface\n",
    "from ase.constraints import FixAtoms, UnitCellFilter\n",
    "from ase.optimize import QuasiNewton\n",
    "from ase.visualize import view\n",
    "from ase.io import read, write\n",
    "from ase.optimize import LBFGS\n",
    "import numpy as np\n",
    "from cu2o_bulk import cu2o_bulk, cu2o111, CuD_FCC111, STO_FCC111, CuDO_FCC111\n",
    "\n",
    "b = cu2o_bulk()\n",
    "#b.calc = mace_mp(model=\"medium\", dispersion=False, default_dtype=\"float64\", device='cpu')\n",
    "#E_bulk = b.get_potential_energy()\n",
    "\n",
    "\n",
    "slab = cu2o111(3, 10)\n",
    "#view(slab)\n",
    "#write('slab.xyz', slab)\n",
    "#slab.calc = mace_mp(model=\"medium\", dispersion=False, default_dtype=\"float64\", device='cpu')\n",
    "\n",
    "slab = CuDO_FCC111(3, 10)\n",
    "view(slab)\n",
    "#slab.calc = mace_mp(model=\"medium\", dispersion=False, default_dtype=\"float64\", device='cpu')\n",
    "\n",
    "'''\n",
    "E_slab = slab.get_potential_energy()\n",
    "E_cleav = (E_slab - E_bulk * n_layers) / 2 / np.linalg.det(slab.cell[:2, :2])\n",
    "print(f'{n_layers=} {E_cleav=}')\n",
    "\n",
    "slab = CuDO_FCC111(n_layers=5, vacuum=10)\n",
    "#slab.calc = mace_mp(model=\"medium\", dispersion=False, default_dtype=\"float64\", device='cpu')\n",
    "\n",
    "bottom_Cu_z = np.min(slab[slab.symbols=='Cu'].positions[:,2])\n",
    "mask1=slab.positions[:, 2] < bottom_Cu_z + 1.0\n",
    "slab.set_constraint(FixAtoms(mask=mask1))\n",
    "\n",
    "#qn = LBFGS(slab, trajectory='111slab.traj')\n",
    "#qn.run(fmax=0.01)\n",
    "#E_slab = slab.get_potential_energy()\n",
    "t = read('111slab.traj@:')\n",
    "atoms = t[-1]\n",
    "view(atoms)\n",
    "  \n",
    "E_surf = (E_slab - E_bulk * n_layers) / 2 / np.linalg.det(slab.cell[:2, :2])\n",
    "print(f'{n_layers=} {E_surf=}')\n",
    "'''"
   ]
  },
  {
   "cell_type": "code",
   "execution_count": 9,
   "id": "ce1dab8d-c0ff-4353-94da-b83b33279abd",
   "metadata": {},
   "outputs": [],
   "source": [
    "x = np.arange(10)\n",
    "mask = 4 < x"
   ]
  },
  {
   "cell_type": "code",
   "execution_count": 10,
   "id": "03550eed-9c5b-4b0b-97ef-e53c5a08a3fe",
   "metadata": {},
   "outputs": [
    {
     "data": {
      "text/plain": [
       "(0,\n",
       " array([False, False, False, False, False,  True,  True,  True,  True,\n",
       "         True]),\n",
       " 5)"
      ]
     },
     "execution_count": 10,
     "metadata": {},
     "output_type": "execute_result"
    }
   ],
   "source": [
    "np.argmin(mask), mask, np.argmax(mask),"
   ]
  },
  {
   "cell_type": "code",
   "execution_count": null,
   "id": "5576c610-7103-4ffa-9b14-0e017c1729bf",
   "metadata": {},
   "outputs": [],
   "source": []
  }
 ],
 "metadata": {
  "kernelspec": {
   "display_name": "Python 3 (ipykernel)",
   "language": "python",
   "name": "python3"
  },
  "language_info": {
   "codemirror_mode": {
    "name": "ipython",
    "version": 3
   },
   "file_extension": ".py",
   "mimetype": "text/x-python",
   "name": "python",
   "nbconvert_exporter": "python",
   "pygments_lexer": "ipython3",
   "version": "3.11.9"
  }
 },
 "nbformat": 4,
 "nbformat_minor": 5
}
