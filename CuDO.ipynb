{
 "cells": [
  {
   "cell_type": "code",
   "execution_count": 1,
   "id": "cc07ec3d-7199-4e0b-9918-78b652236ae0",
   "metadata": {},
   "outputs": [
    {
     "name": "stdout",
     "output_type": "stream",
     "text": [
      "Using Materials Project MACE for MACECalculator with /home/lana/.cache/mace/5yyxdm76\n",
      "Using float64 for MACECalculator, which is slower but more accurate. Recommended for geometry optimization.\n",
      "       Step     Time          Energy         fmax\n",
      "*Force-consistent energies used in optimization.\n",
      "LBFGS:    0 16:27:27      -28.749845*       0.0015\n"
     ]
    },
    {
     "data": {
      "text/plain": [
       "<Popen: returncode: None args: ['/home/lana/ve/bin/python3', '-m', 'ase', 'g...>"
      ]
     },
     "execution_count": 1,
     "metadata": {},
     "output_type": "execute_result"
    }
   ],
   "source": [
    "from ase.io import read, write\n",
    "from mace.calculators import mace_mp\n",
    "from ase.build import surface\n",
    "from ase.visualize import view\n",
    "from ase.constraints import FixAtoms, UnitCellFilter\n",
    "from ase.build import bulk\n",
    "import numpy as np\n",
    "from ase.optimize import LBFGS\n",
    "\n",
    "x = read('/home/lana/Downloads/9007497.cif')\n",
    "x.calc = mace_mp(model=\"medium\", dispersion=False, default_dtype=\"float64\", device='cpu')\n",
    "ucf = UnitCellFilter(x)\n",
    "qn = LBFGS(ucf, trajectory='bulk_rlx.traj')\n",
    "qn.run(fmax=0.01)\n",
    "E_x = x.get_potential_energy()\n",
    "t = read('bulk_rlx.traj@:')\n",
    "view(t)"
   ]
  },
  {
   "cell_type": "code",
   "execution_count": 8,
   "id": "505d8257-38fa-4ad0-a9fe-5b6ab5b2694a",
   "metadata": {},
   "outputs": [
    {
     "name": "stdout",
     "output_type": "stream",
     "text": [
      "Using Materials Project MACE for MACECalculator with /home/lana/.cache/mace/5yyxdm76\n",
      "Using float64 for MACECalculator, which is slower but more accurate. Recommended for geometry optimization.\n",
      "Using Materials Project MACE for MACECalculator with /home/lana/.cache/mace/5yyxdm76\n",
      "Using float64 for MACECalculator, which is slower but more accurate. Recommended for geometry optimization.\n",
      "n_layers=3 E_cleav=0.09781531101608756\n",
      "       Step     Time          Energy         fmax\n",
      "*Force-consistent energies used in optimization.\n",
      "LBFGS:    0 16:36:11      -54.735968*       0.9095\n",
      "LBFGS:    1 16:36:11      -54.779769*       0.9110\n",
      "LBFGS:    2 16:36:11      -55.169108*       1.7949\n",
      "LBFGS:    3 16:36:11      -55.395137*       2.3033\n",
      "LBFGS:    4 16:36:12      -55.722817*       2.2007\n",
      "LBFGS:    5 16:36:12      -55.939664*       1.1434\n",
      "LBFGS:    6 16:36:12      -56.057794*       0.6802\n",
      "LBFGS:    7 16:36:13      -56.086729*       0.5956\n",
      "LBFGS:    8 16:36:13      -56.137970*       0.6158\n",
      "LBFGS:    9 16:36:13      -56.192056*       0.6955\n",
      "LBFGS:   10 16:36:13      -56.225709*       0.6110\n",
      "LBFGS:   11 16:36:14      -56.247638*       0.4908\n",
      "LBFGS:   12 16:36:14      -56.254160*       0.4115\n",
      "LBFGS:   13 16:36:14      -56.273151*       0.1174\n",
      "LBFGS:   14 16:36:15      -56.274205*       0.0812\n",
      "LBFGS:   15 16:36:15      -56.274408*       0.0891\n",
      "LBFGS:   16 16:36:15      -56.274767*       0.0868\n",
      "LBFGS:   17 16:36:15      -56.275282*       0.0591\n",
      "LBFGS:   18 16:36:16      -56.275564*       0.0311\n",
      "LBFGS:   19 16:36:16      -56.275636*       0.0138\n",
      "LBFGS:   20 16:36:16      -56.275651*       0.0122\n",
      "LBFGS:   21 16:36:17      -56.275673*       0.0152\n",
      "LBFGS:   22 16:36:17      -56.275718*       0.0217\n",
      "LBFGS:   23 16:36:17      -56.275783*       0.0241\n",
      "LBFGS:   24 16:36:17      -56.275832*       0.0154\n",
      "LBFGS:   25 16:36:18      -56.275847*       0.0042\n",
      "n_layers=3 E_surf=0.47234488912333406\n"
     ]
    }
   ],
   "source": [
    "from ase import Atoms\n",
    "from mace.calculators import mace_mp\n",
    "from ase.build import surface\n",
    "from ase.constraints import FixAtoms, UnitCellFilter\n",
    "from ase.optimize import QuasiNewton\n",
    "from ase.visualize import view\n",
    "from ase.io import read, write\n",
    "from ase.optimize import LBFGS\n",
    "import numpy as np\n",
    "\n",
    "\n",
    "def cu2o_bulk():\n",
    "  return read('bulk_rlx.traj')\n",
    "\n",
    "b = cu2o_bulk()\n",
    "b.calc = mace_mp(model=\"medium\", dispersion=False, default_dtype=\"float64\", device='cpu')\n",
    "E_bulk = b.get_potential_energy()\n",
    "\n",
    "\n",
    "def cu2o111(n_slab, vacuum):\n",
    "  x = cu2o_bulk()\n",
    "  x.translate([0.1, 0.1, 0])\n",
    "  slab = surface(x, (1,1,1), n_slab, vacuum=vacuum, periodic=True)  \n",
    "  return slab \n",
    "\n",
    "\n",
    "n_layers = 3\n",
    "slab = cu2o111(n_layers, 10)\n",
    "\n",
    "#view(slab)\n",
    "write('slab.xyz', slab)\n",
    "\n",
    "\n",
    "slab.calc = mace_mp(model=\"medium\", dispersion=False, default_dtype=\"float64\", device='cpu')\n",
    "\n",
    "E_slab = slab.get_potential_energy()\n",
    "E_cleav = (E_slab - E_bulk * n_layers) / 2 / np.linalg.det(slab.cell[:2, :2])\n",
    "print(f'{n_layers=} {E_cleav=}')\n",
    "\n",
    "\n",
    "\n",
    "\n",
    "bottom_O_z = np.min(slab[slab.symbols=='O'].positions[:,2])\n",
    "maskO=slab.positions[:, 2] <= bottom_O_z \n",
    "bottom_Cu_z = np.min(slab[slab.symbols=='Cu'].positions[:,2])\n",
    "STO_z = np.max(slab[slab.symbols=='O'].positions[:,2])\n",
    "del slab[maskO]\n",
    "mask2 = (slab.positions[:, 2] >= STO_z) & (slab.symbols=='O')\n",
    "del slab[mask2]\n",
    "\n",
    "\n",
    "bottom_O_z = np.min(slab[slab.symbols=='O'].positions[:,2])\n",
    "bottom_Cu_z = np.min(slab[slab.symbols=='Cu'].positions[:,2])\n",
    "unsat_Cu_z = np.max(slab[slab.symbols=='Cu'].positions[:,2])\n",
    "mask1=slab.positions[:, 2] < bottom_Cu_z + 1.0\n",
    "maskO=slab.positions[:, 2] <= bottom_O_z \n",
    "del slab[maskO]\n",
    "mask2=(slab.positions[:, 2] >= unsat_Cu_z) & (slab.symbols=='Cu') \n",
    "del slab[mask2]\n",
    "\n",
    "\n",
    "slab.set_constraint(FixAtoms(mask=mask1))\n",
    "qn = LBFGS(slab, trajectory='111slab.traj')\n",
    "qn.run(fmax=0.01)\n",
    "E_slab = slab.get_potential_energy()\n",
    "t = read('111slab.traj@:')\n",
    "atoms = t[-1]\n",
    "#view(t)\n",
    "\n",
    "view(atoms)\n",
    "  \n",
    "E_surf = (E_slab - E_bulk * n_layers) / 2 / np.linalg.det(slab.cell[:2, :2])\n",
    "print(f'{n_layers=} {E_surf=}')\n"
   ]
  },
  {
   "cell_type": "code",
   "execution_count": null,
   "id": "454d8cfb-9139-43fb-baef-e753faedbee9",
   "metadata": {},
   "outputs": [],
   "source": []
  }
 ],
 "metadata": {
  "kernelspec": {
   "display_name": "Python 3 (ipykernel)",
   "language": "python",
   "name": "python3"
  },
  "language_info": {
   "codemirror_mode": {
    "name": "ipython",
    "version": 3
   },
   "file_extension": ".py",
   "mimetype": "text/x-python",
   "name": "python",
   "nbconvert_exporter": "python",
   "pygments_lexer": "ipython3",
   "version": "3.11.9"
  }
 },
 "nbformat": 4,
 "nbformat_minor": 5
}
