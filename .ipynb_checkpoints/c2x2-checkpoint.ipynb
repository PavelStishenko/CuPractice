{
 "cells": [
  {
   "cell_type": "markdown",
   "id": "c3666cf2",
   "metadata": {
    "colab_type": "text",
    "id": "view-in-github"
   },
   "source": [
    "<a href=\"https://colab.research.google.com/github/francisan17/CuPractice/blob/main/c(2x2).ipynb\" target=\"_parent\"><img src=\"https://colab.research.google.com/assets/colab-badge.svg\" alt=\"Open In Colab\"/></a>"
   ]
  },
  {
   "cell_type": "code",
   "execution_count": 4,
   "id": "505d8257-38fa-4ad0-a9fe-5b6ab5b2694a",
   "metadata": {
    "colab": {
     "base_uri": "https://localhost:8080/"
    },
    "id": "505d8257-38fa-4ad0-a9fe-5b6ab5b2694a",
    "outputId": "ce8fb17c-c127-47a5-9e35-43ab3373c991"
   },
   "outputs": [
    {
     "name": "stdout",
     "output_type": "stream",
     "text": [
      "Using Materials Project MACE for MACECalculator with /home/lana/.cache/mace/5f5yavf3\n",
      "Using float64 for MACECalculator, which is slower but more accurate. Recommended for geometry optimization.\n",
      "Using TorchDFTD3Calculator for D3 dispersion corrections (see https://github.com/pfnet-research/torch-dftd)\n",
      "       Step     Time          Energy         fmax\n",
      "LBFGS:    0 14:39:50      -30.685465        0.3299\n",
      "LBFGS:    1 14:39:50      -30.690012        0.3133\n",
      "LBFGS:    2 14:39:51      -30.727313        0.0564\n",
      "LBFGS:    3 14:39:51      -30.728281        0.0078\n",
      "Number of Oxygen atoms in bulk: 2\n"
     ]
    },
    {
     "data": {
      "text/plain": [
       "'\\nn_layers = { 3,4,5,6,7,8,9,10}\\nCu2Otable={}\\n\\nn_layers_list=[]\\nslab_oxygens_list=[]\\nE_surf_list=[]\\n\\n\\nfor n_layers in range(3,11):\\n  vacuum=10\\n  slab = c2x2(bulk, n_layers, vacuum)\\n  #write(\\'slab.xyz\\', slab)\\n  slab_oxygens = slab[slab.symbols==\\'O\\']\\n  Cu2Otable[n_layers]=len(slab_oxygens)\\n  print(f\"Number of Oxygen atoms in slab: {len(slab_oxygens)}\")\\n\\n  slab.calc = mace_mp(model=\"large\", dispersion=True, default_dtype=\"float64\", device=\\'cpu\\')\\n  E_slab = slab.get_potential_energy()\\n  E_cleav = (E_slab - E_bulk * n_layers) / 2 / np.linalg.det(slab.cell[:2, :2])\\n  print(f\\'{n_layers=} {E_cleav=}\\')\\n\\n  qn = LBFGS(slab, trajectory=\\'c2x2.traj\\')\\n  qn.run(fmax=0.01)\\n  E_slab = slab.get_potential_energy()\\n\\n  ##Calc Surface Energy\\n  E_surf = (E_slab - E_bulk * n_layers) / 2 / np.linalg.det(slab.cell[:2, :2])\\n  print(f\\'{n_layers=} {E_surf=}\\')\\n\\n  n_layers_list.append(n_layers)\\n  slab_oxygens_list.append(len(slab_oxygens))\\n  E_surf_list.append(E_surf)\\n\\ndf = pd.DataFrame({\\'Number of Layers\\': n_layers_list, \\'Number of Oxygen Atoms\\':slab_oxygens_list, \\'Surface Energy\\': E_surf_list})\\ntable=tabulate(df, headers = \\'keys\\', tablefmt = \\'fancy_grid\\')\\ndf.to_csv(\\'c2x2.csv\\', index=False)\\nprint(table)\\n'"
      ]
     },
     "execution_count": 4,
     "metadata": {},
     "output_type": "execute_result"
    }
   ],
   "source": [
    "from ase import Atoms\n",
    "from mace.calculators import mace_mp\n",
    "from ase.build import surface\n",
    "from ase.constraints import FixAtoms, UnitCellFilter\n",
    "from ase.optimize import QuasiNewton\n",
    "from ase.visualize import view\n",
    "from ase.io import read, write\n",
    "from ase.optimize import LBFGS\n",
    "import numpy as np\n",
    "import pandas as pd\n",
    "from tabulate import tabulate\n",
    "from cu2o_bulk import cu2o_bulk, cu2o100, Oterm1x1, c2x2\n",
    "\n",
    "bulk = cu2o_bulk()\n",
    "bulk.calc = mace_mp(model=\"small\", dispersion=True, default_dtype=\"float64\", device='cpu')\n",
    "ucf = UnitCellFilter(bulk)\n",
    "LBFGS(ucf).run(fmax=0.01)\n",
    "E_bulk = bulk.get_potential_energy()\n",
    "bulk_oxygens = bulk[bulk.symbols=='O']\n",
    "print(f\"Number of Oxygen atoms in bulk: {len(bulk_oxygens)}\")\n",
    "#write('bulk.xyz', bulk)\n",
    "\n",
    "#n_layers=3\n",
    "#vacuum=10\n",
    "#slab = cu2o100(bulk, n_layers, vacuum)\n",
    "#view(slab)\n",
    "\n",
    "n_layers = { 3,4,5,6,7,8,9,10}\n",
    "Cu2Otable={}\n",
    "\n",
    "n_layers_list=[]\n",
    "slab_oxygens_list=[]\n",
    "E_surf_list=[]\n",
    "\n",
    "\n",
    "for n_layers in range(3,11):\n",
    "  vacuum=10\n",
    "  slab = c2x2(bulk, n_layers, vacuum)\n",
    "  #write('slab.xyz', slab)\n",
    "  slab_oxygens = slab[slab.symbols=='O']\n",
    "  Cu2Otable[n_layers]=len(slab_oxygens)\n",
    "  print(f\"Number of Oxygen atoms in slab: {len(slab_oxygens)}\")\n",
    "\n",
    "  slab.calc = mace_mp(model=\"small\", dispersion=True, default_dtype=\"float64\", device='cpu')\n",
    "  E_slab = slab.get_potential_energy()\n",
    "  E_cleav = (E_slab - E_bulk * n_layers) / 2 / np.linalg.det(slab.cell[:2, :2])\n",
    "  print(f'{n_layers=} {E_cleav=}')\n",
    "\n",
    "  qn = LBFGS(slab, trajectory='c2x2.traj')\n",
    "  qn.run(fmax=0.01)\n",
    "  E_slab = slab.get_potential_energy()\n",
    "\n",
    "  ##Calc Surface Energy\n",
    "  E_surf = (E_slab - E_bulk * n_layers) / 2 / np.linalg.det(slab.cell[:2, :2])\n",
    "  print(f'{n_layers=} {E_surf=}')\n",
    "\n",
    "  n_layers_list.append(n_layers)\n",
    "  slab_oxygens_list.append(len(slab_oxygens))\n",
    "  E_surf_list.append(E_surf)\n",
    "\n",
    "df = pd.DataFrame({'Number of Layers': n_layers_list, 'Number of Oxygen Atoms':slab_oxygens_list, 'Surface Energy': E_surf_list})\n",
    "table=tabulate(df, headers = 'keys', tablefmt = 'fancy_grid')\n",
    "df.to_csv('c2x2.csv', index=False)\n",
    "print(table)"
   ]
  },
  {
   "cell_type": "code",
   "execution_count": 3,
   "id": "454d8cfb-9139-43fb-baef-e753faedbee9",
   "metadata": {
    "colab": {
     "base_uri": "https://localhost:8080/"
    },
    "id": "454d8cfb-9139-43fb-baef-e753faedbee9",
    "outputId": "ebd737e3-dde9-41fd-a331-4b6aae085641"
   },
   "outputs": [
    {
     "name": "stdout",
     "output_type": "stream",
     "text": [
      "Requirement already satisfied: mace-torch in /home/lana/ve/lib64/python3.11/site-packages (0.3.4)\n",
      "Requirement already satisfied: torch>=1.12 in /home/lana/ve/lib64/python3.11/site-packages (from mace-torch) (2.3.0)\n",
      "Requirement already satisfied: e3nn==0.4.4 in /home/lana/ve/lib64/python3.11/site-packages (from mace-torch) (0.4.4)\n",
      "Requirement already satisfied: numpy in /home/lana/ve/lib64/python3.11/site-packages (from mace-torch) (1.26.4)\n",
      "Requirement already satisfied: opt-einsum in /home/lana/ve/lib64/python3.11/site-packages (from mace-torch) (3.3.0)\n",
      "Requirement already satisfied: ase in /home/lana/ve/lib64/python3.11/site-packages (from mace-torch) (3.22.1)\n",
      "Requirement already satisfied: torch-ema in /home/lana/ve/lib64/python3.11/site-packages (from mace-torch) (0.3)\n",
      "Requirement already satisfied: prettytable in /home/lana/ve/lib64/python3.11/site-packages (from mace-torch) (3.10.0)\n",
      "Requirement already satisfied: matscipy in /home/lana/ve/lib64/python3.11/site-packages (from mace-torch) (1.0.0)\n",
      "Requirement already satisfied: matplotlib in /home/lana/ve/lib64/python3.11/site-packages (from mace-torch) (3.9.0)\n",
      "Requirement already satisfied: pandas in /home/lana/ve/lib64/python3.11/site-packages (from mace-torch) (2.2.2)\n",
      "Requirement already satisfied: sympy in /home/lana/ve/lib64/python3.11/site-packages (from e3nn==0.4.4->mace-torch) (1.12.1)\n",
      "Requirement already satisfied: scipy in /home/lana/ve/lib64/python3.11/site-packages (from e3nn==0.4.4->mace-torch) (1.13.1)\n",
      "Requirement already satisfied: opt-einsum-fx>=0.1.4 in /home/lana/ve/lib64/python3.11/site-packages (from e3nn==0.4.4->mace-torch) (0.1.4)\n",
      "Requirement already satisfied: filelock in /home/lana/ve/lib64/python3.11/site-packages (from torch>=1.12->mace-torch) (3.14.0)\n",
      "Requirement already satisfied: typing-extensions>=4.8.0 in /home/lana/ve/lib64/python3.11/site-packages (from torch>=1.12->mace-torch) (4.12.1)\n",
      "Requirement already satisfied: networkx in /home/lana/ve/lib64/python3.11/site-packages (from torch>=1.12->mace-torch) (3.3)\n",
      "Requirement already satisfied: jinja2 in /home/lana/ve/lib64/python3.11/site-packages (from torch>=1.12->mace-torch) (3.1.4)\n",
      "Requirement already satisfied: fsspec in /home/lana/ve/lib64/python3.11/site-packages (from torch>=1.12->mace-torch) (2024.6.0)\n",
      "Requirement already satisfied: nvidia-cuda-nvrtc-cu12==12.1.105 in /home/lana/ve/lib64/python3.11/site-packages (from torch>=1.12->mace-torch) (12.1.105)\n",
      "Requirement already satisfied: nvidia-cuda-runtime-cu12==12.1.105 in /home/lana/ve/lib64/python3.11/site-packages (from torch>=1.12->mace-torch) (12.1.105)\n",
      "Requirement already satisfied: nvidia-cuda-cupti-cu12==12.1.105 in /home/lana/ve/lib64/python3.11/site-packages (from torch>=1.12->mace-torch) (12.1.105)\n",
      "Requirement already satisfied: nvidia-cudnn-cu12==8.9.2.26 in /home/lana/ve/lib64/python3.11/site-packages (from torch>=1.12->mace-torch) (8.9.2.26)\n",
      "Requirement already satisfied: nvidia-cublas-cu12==12.1.3.1 in /home/lana/ve/lib64/python3.11/site-packages (from torch>=1.12->mace-torch) (12.1.3.1)\n",
      "Requirement already satisfied: nvidia-cufft-cu12==11.0.2.54 in /home/lana/ve/lib64/python3.11/site-packages (from torch>=1.12->mace-torch) (11.0.2.54)\n",
      "Requirement already satisfied: nvidia-curand-cu12==10.3.2.106 in /home/lana/ve/lib64/python3.11/site-packages (from torch>=1.12->mace-torch) (10.3.2.106)\n",
      "Requirement already satisfied: nvidia-cusolver-cu12==11.4.5.107 in /home/lana/ve/lib64/python3.11/site-packages (from torch>=1.12->mace-torch) (11.4.5.107)\n",
      "Requirement already satisfied: nvidia-cusparse-cu12==12.1.0.106 in /home/lana/ve/lib64/python3.11/site-packages (from torch>=1.12->mace-torch) (12.1.0.106)\n",
      "Requirement already satisfied: nvidia-nccl-cu12==2.20.5 in /home/lana/ve/lib64/python3.11/site-packages (from torch>=1.12->mace-torch) (2.20.5)\n",
      "Requirement already satisfied: nvidia-nvtx-cu12==12.1.105 in /home/lana/ve/lib64/python3.11/site-packages (from torch>=1.12->mace-torch) (12.1.105)\n",
      "Requirement already satisfied: triton==2.3.0 in /home/lana/ve/lib64/python3.11/site-packages (from torch>=1.12->mace-torch) (2.3.0)\n",
      "Requirement already satisfied: nvidia-nvjitlink-cu12 in /home/lana/ve/lib64/python3.11/site-packages (from nvidia-cusolver-cu12==11.4.5.107->torch>=1.12->mace-torch) (12.5.40)\n",
      "Requirement already satisfied: contourpy>=1.0.1 in /home/lana/ve/lib64/python3.11/site-packages (from matplotlib->mace-torch) (1.2.1)\n",
      "Requirement already satisfied: cycler>=0.10 in /home/lana/ve/lib64/python3.11/site-packages (from matplotlib->mace-torch) (0.12.1)\n",
      "Requirement already satisfied: fonttools>=4.22.0 in /home/lana/ve/lib64/python3.11/site-packages (from matplotlib->mace-torch) (4.53.0)\n",
      "Requirement already satisfied: kiwisolver>=1.3.1 in /home/lana/ve/lib64/python3.11/site-packages (from matplotlib->mace-torch) (1.4.5)\n",
      "Requirement already satisfied: packaging>=20.0 in /home/lana/ve/lib64/python3.11/site-packages (from matplotlib->mace-torch) (24.0)\n",
      "Requirement already satisfied: pillow>=8 in /home/lana/ve/lib64/python3.11/site-packages (from matplotlib->mace-torch) (10.3.0)\n",
      "Requirement already satisfied: pyparsing>=2.3.1 in /home/lana/ve/lib64/python3.11/site-packages (from matplotlib->mace-torch) (3.1.2)\n",
      "Requirement already satisfied: python-dateutil>=2.7 in /home/lana/ve/lib64/python3.11/site-packages (from matplotlib->mace-torch) (2.9.0.post0)\n",
      "Requirement already satisfied: looseversion in /home/lana/ve/lib64/python3.11/site-packages (from matscipy->mace-torch) (1.3.0)\n",
      "Requirement already satisfied: pytz>=2020.1 in /home/lana/ve/lib64/python3.11/site-packages (from pandas->mace-torch) (2024.1)\n",
      "Requirement already satisfied: tzdata>=2022.7 in /home/lana/ve/lib64/python3.11/site-packages (from pandas->mace-torch) (2024.1)\n",
      "Requirement already satisfied: wcwidth in /home/lana/ve/lib64/python3.11/site-packages (from prettytable->mace-torch) (0.2.13)\n",
      "Requirement already satisfied: six>=1.5 in /home/lana/ve/lib64/python3.11/site-packages (from python-dateutil>=2.7->matplotlib->mace-torch) (1.16.0)\n",
      "Requirement already satisfied: MarkupSafe>=2.0 in /home/lana/ve/lib64/python3.11/site-packages (from jinja2->torch>=1.12->mace-torch) (2.1.5)\n",
      "Requirement already satisfied: mpmath<1.4.0,>=1.1.0 in /home/lana/ve/lib64/python3.11/site-packages (from sympy->e3nn==0.4.4->mace-torch) (1.3.0)\n",
      "\n",
      "\u001b[1m[\u001b[0m\u001b[34;49mnotice\u001b[0m\u001b[1;39;49m]\u001b[0m\u001b[39;49m A new release of pip is available: \u001b[0m\u001b[31;49m24.0\u001b[0m\u001b[39;49m -> \u001b[0m\u001b[32;49m24.1.2\u001b[0m\n",
      "\u001b[1m[\u001b[0m\u001b[34;49mnotice\u001b[0m\u001b[1;39;49m]\u001b[0m\u001b[39;49m To update, run: \u001b[0m\u001b[32;49mpip install --upgrade pip\u001b[0m\n"
     ]
    }
   ],
   "source": [
    "!pip install mace-torch\n"
   ]
  },
  {
   "cell_type": "code",
   "execution_count": 1,
   "id": "Br7qoMnYIc34",
   "metadata": {
    "colab": {
     "base_uri": "https://localhost:8080/"
    },
    "collapsed": true,
    "id": "Br7qoMnYIc34",
    "jupyter": {
     "outputs_hidden": true
    },
    "outputId": "79f7d123-d02a-4b13-d230-1bd105cfd5e0"
   },
   "outputs": [
    {
     "name": "stdout",
     "output_type": "stream",
     "text": [
      "Collecting torch-dftd\n",
      "  Using cached torch_dftd-0.4.0-py3-none-any.whl (681 kB)\n",
      "Collecting ase<4.0.0,>=3.18 (from torch-dftd)\n",
      "  Using cached ase-3.23.0-py3-none-any.whl (2.9 MB)\n",
      "Collecting pymatgen>=2020.1.28 (from torch-dftd)\n",
      "  Using cached pymatgen-2024.6.10-cp310-cp310-manylinux_2_17_x86_64.manylinux2014_x86_64.whl (4.8 MB)\n",
      "Requirement already satisfied: numpy>=1.18.5 in /usr/local/lib/python3.10/dist-packages (from ase<4.0.0,>=3.18->torch-dftd) (1.25.2)\n",
      "Requirement already satisfied: scipy>=1.6.0 in /usr/local/lib/python3.10/dist-packages (from ase<4.0.0,>=3.18->torch-dftd) (1.11.4)\n",
      "Requirement already satisfied: matplotlib>=3.3.4 in /usr/local/lib/python3.10/dist-packages (from ase<4.0.0,>=3.18->torch-dftd) (3.7.1)\n",
      "Collecting matplotlib>=3.3.4 (from ase<4.0.0,>=3.18->torch-dftd)\n",
      "  Downloading matplotlib-3.9.1-cp310-cp310-manylinux_2_17_x86_64.manylinux2014_x86_64.whl (8.3 MB)\n",
      "\u001b[2K     \u001b[90m━━━━━━━━━━━━━━━━━━━━━━━━━━━━━━━━━━━━━━━━\u001b[0m \u001b[32m8.3/8.3 MB\u001b[0m \u001b[31m14.1 MB/s\u001b[0m eta \u001b[36m0:00:00\u001b[0m\n",
      "\u001b[?25hCollecting monty>=2024.5.24 (from pymatgen>=2020.1.28->torch-dftd)\n",
      "  Downloading monty-2024.5.24-py3-none-any.whl (67 kB)\n",
      "\u001b[2K     \u001b[90m━━━━━━━━━━━━━━━━━━━━━━━━━━━━━━━━━━━━━━━━\u001b[0m \u001b[32m67.9/67.9 kB\u001b[0m \u001b[31m4.1 MB/s\u001b[0m eta \u001b[36m0:00:00\u001b[0m\n",
      "\u001b[?25hRequirement already satisfied: networkx>=2.2 in /usr/local/lib/python3.10/dist-packages (from pymatgen>=2020.1.28->torch-dftd) (3.3)\n",
      "Collecting palettable>=3.1.1 (from pymatgen>=2020.1.28->torch-dftd)\n",
      "  Downloading palettable-3.3.3-py2.py3-none-any.whl (332 kB)\n",
      "\u001b[2K     \u001b[90m━━━━━━━━━━━━━━━━━━━━━━━━━━━━━━━━━━━━━━━━\u001b[0m \u001b[32m332.3/332.3 kB\u001b[0m \u001b[31m25.6 MB/s\u001b[0m eta \u001b[36m0:00:00\u001b[0m\n",
      "\u001b[?25hRequirement already satisfied: pandas>=2 in /usr/local/lib/python3.10/dist-packages (from pymatgen>=2020.1.28->torch-dftd) (2.0.3)\n",
      "Requirement already satisfied: plotly>=4.5.0 in /usr/local/lib/python3.10/dist-packages (from pymatgen>=2020.1.28->torch-dftd) (5.15.0)\n",
      "Collecting pybtex>=0.24.0 (from pymatgen>=2020.1.28->torch-dftd)\n",
      "  Downloading pybtex-0.24.0-py2.py3-none-any.whl (561 kB)\n",
      "\u001b[2K     \u001b[90m━━━━━━━━━━━━━━━━━━━━━━━━━━━━━━━━━━━━━━━━\u001b[0m \u001b[32m561.4/561.4 kB\u001b[0m \u001b[31m19.6 MB/s\u001b[0m eta \u001b[36m0:00:00\u001b[0m\n",
      "\u001b[?25hCollecting requests>=2.32 (from pymatgen>=2020.1.28->torch-dftd)\n",
      "  Downloading requests-2.32.3-py3-none-any.whl (64 kB)\n",
      "\u001b[2K     \u001b[90m━━━━━━━━━━━━━━━━━━━━━━━━━━━━━━━━━━━━━━━━\u001b[0m \u001b[32m64.9/64.9 kB\u001b[0m \u001b[31m1.8 MB/s\u001b[0m eta \u001b[36m0:00:00\u001b[0m\n",
      "\u001b[?25hCollecting ruamel.yaml>=0.17.0 (from pymatgen>=2020.1.28->torch-dftd)\n",
      "  Downloading ruamel.yaml-0.18.6-py3-none-any.whl (117 kB)\n",
      "\u001b[2K     \u001b[90m━━━━━━━━━━━━━━━━━━━━━━━━━━━━━━━━━━━━━━━━\u001b[0m \u001b[32m117.8/117.8 kB\u001b[0m \u001b[31m5.6 MB/s\u001b[0m eta \u001b[36m0:00:00\u001b[0m\n",
      "\u001b[?25hCollecting scipy>=1.6.0 (from ase<4.0.0,>=3.18->torch-dftd)\n",
      "  Downloading scipy-1.14.0-cp310-cp310-manylinux_2_17_x86_64.manylinux2014_x86_64.whl (41.1 MB)\n",
      "\u001b[2K     \u001b[90m━━━━━━━━━━━━━━━━━━━━━━━━━━━━━━━━━━━━━━━━\u001b[0m \u001b[32m41.1/41.1 MB\u001b[0m \u001b[31m10.1 MB/s\u001b[0m eta \u001b[36m0:00:00\u001b[0m\n",
      "\u001b[?25hCollecting spglib>=2.0.2 (from pymatgen>=2020.1.28->torch-dftd)\n",
      "  Downloading spglib-2.4.0-cp310-cp310-manylinux_2_17_x86_64.whl (809 kB)\n",
      "\u001b[2K     \u001b[90m━━━━━━━━━━━━━━━━━━━━━━━━━━━━━━━━━━━━━━━━\u001b[0m \u001b[32m809.2/809.2 kB\u001b[0m \u001b[31m46.0 MB/s\u001b[0m eta \u001b[36m0:00:00\u001b[0m\n",
      "\u001b[?25hRequirement already satisfied: sympy>=1.2 in /usr/local/lib/python3.10/dist-packages (from pymatgen>=2020.1.28->torch-dftd) (1.12.1)\n",
      "Requirement already satisfied: tabulate>=0.9 in /usr/local/lib/python3.10/dist-packages (from pymatgen>=2020.1.28->torch-dftd) (0.9.0)\n",
      "Requirement already satisfied: tqdm>=4.60 in /usr/local/lib/python3.10/dist-packages (from pymatgen>=2020.1.28->torch-dftd) (4.66.4)\n",
      "Collecting uncertainties>=3.1.4 (from pymatgen>=2020.1.28->torch-dftd)\n",
      "  Downloading uncertainties-3.2.2-py3-none-any.whl (58 kB)\n",
      "\u001b[2K     \u001b[90m━━━━━━━━━━━━━━━━━━━━━━━━━━━━━━━━━━━━━━━━\u001b[0m \u001b[32m58.3/58.3 kB\u001b[0m \u001b[31m6.7 MB/s\u001b[0m eta \u001b[36m0:00:00\u001b[0m\n",
      "\u001b[?25hRequirement already satisfied: joblib>=1 in /usr/local/lib/python3.10/dist-packages (from pymatgen>=2020.1.28->torch-dftd) (1.4.2)\n",
      "Requirement already satisfied: contourpy>=1.0.1 in /usr/local/lib/python3.10/dist-packages (from matplotlib>=3.3.4->ase<4.0.0,>=3.18->torch-dftd) (1.2.1)\n",
      "Requirement already satisfied: cycler>=0.10 in /usr/local/lib/python3.10/dist-packages (from matplotlib>=3.3.4->ase<4.0.0,>=3.18->torch-dftd) (0.12.1)\n",
      "Requirement already satisfied: fonttools>=4.22.0 in /usr/local/lib/python3.10/dist-packages (from matplotlib>=3.3.4->ase<4.0.0,>=3.18->torch-dftd) (4.53.0)\n",
      "Requirement already satisfied: kiwisolver>=1.3.1 in /usr/local/lib/python3.10/dist-packages (from matplotlib>=3.3.4->ase<4.0.0,>=3.18->torch-dftd) (1.4.5)\n",
      "Requirement already satisfied: packaging>=20.0 in /usr/local/lib/python3.10/dist-packages (from matplotlib>=3.3.4->ase<4.0.0,>=3.18->torch-dftd) (24.1)\n",
      "Requirement already satisfied: pillow>=8 in /usr/local/lib/python3.10/dist-packages (from matplotlib>=3.3.4->ase<4.0.0,>=3.18->torch-dftd) (9.4.0)\n",
      "Requirement already satisfied: pyparsing>=2.3.1 in /usr/local/lib/python3.10/dist-packages (from matplotlib>=3.3.4->ase<4.0.0,>=3.18->torch-dftd) (3.1.2)\n",
      "Requirement already satisfied: python-dateutil>=2.7 in /usr/local/lib/python3.10/dist-packages (from matplotlib>=3.3.4->ase<4.0.0,>=3.18->torch-dftd) (2.8.2)\n",
      "Requirement already satisfied: pytz>=2020.1 in /usr/local/lib/python3.10/dist-packages (from pandas>=2->pymatgen>=2020.1.28->torch-dftd) (2023.4)\n",
      "Requirement already satisfied: tzdata>=2022.1 in /usr/local/lib/python3.10/dist-packages (from pandas>=2->pymatgen>=2020.1.28->torch-dftd) (2024.1)\n",
      "Requirement already satisfied: tenacity>=6.2.0 in /usr/local/lib/python3.10/dist-packages (from plotly>=4.5.0->pymatgen>=2020.1.28->torch-dftd) (8.4.2)\n",
      "Requirement already satisfied: PyYAML>=3.01 in /usr/local/lib/python3.10/dist-packages (from pybtex>=0.24.0->pymatgen>=2020.1.28->torch-dftd) (6.0.1)\n",
      "Collecting latexcodec>=1.0.4 (from pybtex>=0.24.0->pymatgen>=2020.1.28->torch-dftd)\n",
      "  Downloading latexcodec-3.0.0-py3-none-any.whl (18 kB)\n",
      "Requirement already satisfied: six in /usr/local/lib/python3.10/dist-packages (from pybtex>=0.24.0->pymatgen>=2020.1.28->torch-dftd) (1.16.0)\n",
      "Requirement already satisfied: charset-normalizer<4,>=2 in /usr/local/lib/python3.10/dist-packages (from requests>=2.32->pymatgen>=2020.1.28->torch-dftd) (3.3.2)\n",
      "Requirement already satisfied: idna<4,>=2.5 in /usr/local/lib/python3.10/dist-packages (from requests>=2.32->pymatgen>=2020.1.28->torch-dftd) (3.7)\n",
      "Requirement already satisfied: urllib3<3,>=1.21.1 in /usr/local/lib/python3.10/dist-packages (from requests>=2.32->pymatgen>=2020.1.28->torch-dftd) (2.0.7)\n",
      "Requirement already satisfied: certifi>=2017.4.17 in /usr/local/lib/python3.10/dist-packages (from requests>=2.32->pymatgen>=2020.1.28->torch-dftd) (2024.6.2)\n",
      "Collecting ruamel.yaml.clib>=0.2.7 (from ruamel.yaml>=0.17.0->pymatgen>=2020.1.28->torch-dftd)\n",
      "  Downloading ruamel.yaml.clib-0.2.8-cp310-cp310-manylinux_2_17_x86_64.manylinux2014_x86_64.manylinux_2_24_x86_64.whl (526 kB)\n",
      "\u001b[2K     \u001b[90m━━━━━━━━━━━━━━━━━━━━━━━━━━━━━━━━━━━━━━━━\u001b[0m \u001b[32m526.7/526.7 kB\u001b[0m \u001b[31m38.6 MB/s\u001b[0m eta \u001b[36m0:00:00\u001b[0m\n",
      "\u001b[?25hRequirement already satisfied: mpmath<1.4.0,>=1.1.0 in /usr/local/lib/python3.10/dist-packages (from sympy>=1.2->pymatgen>=2020.1.28->torch-dftd) (1.3.0)\n",
      "Installing collected packages: uncertainties, spglib, scipy, ruamel.yaml.clib, requests, palettable, monty, latexcodec, ruamel.yaml, pybtex, matplotlib, pymatgen, ase, torch-dftd\n",
      "  Attempting uninstall: scipy\n",
      "    Found existing installation: scipy 1.11.4\n",
      "    Uninstalling scipy-1.11.4:\n",
      "      Successfully uninstalled scipy-1.11.4\n",
      "  Attempting uninstall: requests\n",
      "    Found existing installation: requests 2.31.0\n",
      "    Uninstalling requests-2.31.0:\n",
      "      Successfully uninstalled requests-2.31.0\n",
      "  Attempting uninstall: matplotlib\n",
      "    Found existing installation: matplotlib 3.7.1\n",
      "    Uninstalling matplotlib-3.7.1:\n",
      "      Successfully uninstalled matplotlib-3.7.1\n",
      "\u001b[31mERROR: pip's dependency resolver does not currently take into account all the packages that are installed. This behaviour is the source of the following dependency conflicts.\n",
      "google-colab 1.0.0 requires requests==2.31.0, but you have requests 2.32.3 which is incompatible.\u001b[0m\u001b[31m\n",
      "\u001b[0mSuccessfully installed ase-3.23.0 latexcodec-3.0.0 matplotlib-3.9.1 monty-2024.5.24 palettable-3.3.3 pybtex-0.24.0 pymatgen-2024.6.10 requests-2.32.3 ruamel.yaml-0.18.6 ruamel.yaml.clib-0.2.8 scipy-1.14.0 spglib-2.4.0 torch-dftd-0.4.0 uncertainties-3.2.2\n"
     ]
    }
   ],
   "source": [
    "!pip install torch-dftd"
   ]
  }
 ],
 "metadata": {
  "colab": {
   "include_colab_link": true,
   "provenance": []
  },
  "kernelspec": {
   "display_name": "Python 3 (ipykernel)",
   "language": "python",
   "name": "python3"
  },
  "language_info": {
   "codemirror_mode": {
    "name": "ipython",
    "version": 3
   },
   "file_extension": ".py",
   "mimetype": "text/x-python",
   "name": "python",
   "nbconvert_exporter": "python",
   "pygments_lexer": "ipython3",
   "version": "3.11.9"
  }
 },
 "nbformat": 4,
 "nbformat_minor": 5
}
