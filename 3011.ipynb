{
 "cells": [
  {
   "cell_type": "code",
   "execution_count": 13,
   "id": "505d8257-38fa-4ad0-a9fe-5b6ab5b2694a",
   "metadata": {},
   "outputs": [
    {
     "name": "stdout",
     "output_type": "stream",
     "text": [
      "Using Materials Project MACE for MACECalculator with /home/lana/.cache/mace/46jrkm3v\n",
      "Using float64 for MACECalculator, which is slower but more accurate. Recommended for geometry optimization.\n",
      "       Step     Time          Energy         fmax\n",
      "*Force-consistent energies used in optimization.\n",
      "LBFGS:    0 15:11:21      -28.924518*       0.0261\n",
      "LBFGS:    1 15:11:22      -28.924546*       0.0243\n",
      "LBFGS:    2 15:11:22      -28.924723*       0.0001\n",
      "Using Materials Project MACE for MACECalculator with /home/lana/.cache/mace/46jrkm3v\n",
      "Using float64 for MACECalculator, which is slower but more accurate. Recommended for geometry optimization.\n"
     ]
    },
    {
     "data": {
      "text/plain": [
       "\"\\n\\nqn = LBFGS(slab, trajectory='111slab.traj')\\nqn.run(fmax=0.01)\\n#E_slab = slab.get_potential_energy()\\nt = read('111slab.traj@:')\\nview(t)\\n\\n\\n#E_surf = (E_slab - E_bulk * n_layers) / 2 / np.linalg.det(slab.cell[:2, :2])\\n#print(f'{n_layers=} {E_surf=}')\\n\""
      ]
     },
     "execution_count": 13,
     "metadata": {},
     "output_type": "execute_result"
    }
   ],
   "source": [
    "from ase import Atoms\n",
    "from ase.build import add_adsorbate, fcc100\n",
    "from mace.calculators import mace_mp\n",
    "from ase.build import surface\n",
    "from ase.constraints import FixAtoms, UnitCellFilter\n",
    "from ase.optimize import QuasiNewton\n",
    "from ase.visualize import view\n",
    "from ase.io import read, write\n",
    "from ase.optimize import LBFGS\n",
    "import numpy as np\n",
    "from ase.build.supercells import make_supercell\n",
    "from cu2o_bulk import cu2o_bulk, cu2o100, Oterm1x1, c2x2\n",
    "\n",
    "bulk = read('/home/lana/Downloads/9007497.cif')\n",
    "#view(bulk)\n",
    "\n",
    "bulk = cu2o_bulk()\n",
    "\n",
    "bulk.calc = mace_mp(model=\"small\", dispersion=False, default_dtype=\"float64\", device='cpu')\n",
    "ucf = UnitCellFilter(bulk)\n",
    "LBFGS(ucf).run(fmax=0.01)\n",
    "\n",
    "E_bulk = bulk.get_potential_energy()\n",
    "\n",
    "n_layers=4\n",
    "slab = Oterm1x1(bulk, 4, 10)\n",
    "slab=make_supercell(slab, [[3,0,0], [1,1, 0],  [0,0,1]] )\n",
    "Max_Cu_z = np.max(slab[slab.symbols=='Cu'].positions[:,2]) - 2.0\n",
    "mask2=(slab.positions[:, 2] >= Max_Cu_z) & (slab.symbols=='Cu')\n",
    "del slab[mask2]\n",
    "Max_O_z = np.max(slab[slab.symbols=='Cu'].positions[:,2]) - 0.5\n",
    "mask3=(slab.positions[:, 2] >= Max_O_z) & (slab.symbols=='O')\n",
    "del slab[mask3]\n",
    "#del  slab[13] \n",
    "#del slab[51]\n",
    "#slab.calc = mace_mp(model=\"small\", dispersion=False, default_dtype=\"float64\", device='cpu')\n",
    "#view(slab)\n",
    "\n",
    "'''\n",
    "E_slab = slab.get_potential_energy()\n",
    "E_cleav = (E_slab - E_bulk * n_layers) / 2 / np.linalg.det(slab.cell[:2, :2])\n",
    "print(f'{n_layers=} {E_cleav=}')\n",
    "'''\n",
    "\n",
    "bottom_Cu_z = np.min(slab[slab.symbols=='Cu'].positions[:,2])\n",
    "mask1=slab.positions[:, 2] < bottom_Cu_z + 1.0\n",
    "slab.set_constraint(FixAtoms(mask=mask1))\n",
    "slab.calc = mace_mp(model=\"small\", dispersion=False, default_dtype=\"float64\", device='cpu')\n",
    "view(slab)\n",
    "\n",
    "'''\n",
    "\n",
    "qn = LBFGS(slab, trajectory='111slab.traj')\n",
    "qn.run(fmax=0.01)\n",
    "#E_slab = slab.get_potential_energy()\n",
    "t = read('111slab.traj@:')\n",
    "view(t)\n",
    "\n",
    "\n",
    "#E_surf = (E_slab - E_bulk * n_layers) / 2 / np.linalg.det(slab.cell[:2, :2])\n",
    "#print(f'{n_layers=} {E_surf=}')\n",
    "'''"
   ]
  },
  {
   "cell_type": "code",
   "execution_count": 11,
   "id": "454d8cfb-9139-43fb-baef-e753faedbee9",
   "metadata": {},
   "outputs": [
    {
     "name": "stdout",
     "output_type": "stream",
     "text": [
      "Requirement already satisfied: mace-torch in ./ve/lib64/python3.11/site-packages (0.3.4)\n",
      "Requirement already satisfied: torch>=1.12 in ./ve/lib64/python3.11/site-packages (from mace-torch) (2.3.0)\n",
      "Requirement already satisfied: e3nn==0.4.4 in ./ve/lib64/python3.11/site-packages (from mace-torch) (0.4.4)\n",
      "Requirement already satisfied: numpy in ./ve/lib64/python3.11/site-packages (from mace-torch) (1.26.4)\n",
      "Requirement already satisfied: opt-einsum in ./ve/lib64/python3.11/site-packages (from mace-torch) (3.3.0)\n",
      "Requirement already satisfied: ase in ./ve/lib64/python3.11/site-packages (from mace-torch) (3.22.1)\n",
      "Requirement already satisfied: torch-ema in ./ve/lib64/python3.11/site-packages (from mace-torch) (0.3)\n",
      "Requirement already satisfied: prettytable in ./ve/lib64/python3.11/site-packages (from mace-torch) (3.10.0)\n",
      "Requirement already satisfied: matscipy in ./ve/lib64/python3.11/site-packages (from mace-torch) (1.0.0)\n",
      "Requirement already satisfied: matplotlib in ./ve/lib64/python3.11/site-packages (from mace-torch) (3.9.0)\n",
      "Requirement already satisfied: pandas in ./ve/lib64/python3.11/site-packages (from mace-torch) (2.2.2)\n",
      "Requirement already satisfied: sympy in ./ve/lib64/python3.11/site-packages (from e3nn==0.4.4->mace-torch) (1.12.1)\n",
      "Requirement already satisfied: scipy in ./ve/lib64/python3.11/site-packages (from e3nn==0.4.4->mace-torch) (1.13.1)\n",
      "Requirement already satisfied: opt-einsum-fx>=0.1.4 in ./ve/lib64/python3.11/site-packages (from e3nn==0.4.4->mace-torch) (0.1.4)\n",
      "Requirement already satisfied: filelock in ./ve/lib64/python3.11/site-packages (from torch>=1.12->mace-torch) (3.14.0)\n",
      "Requirement already satisfied: typing-extensions>=4.8.0 in ./ve/lib64/python3.11/site-packages (from torch>=1.12->mace-torch) (4.12.1)\n",
      "Requirement already satisfied: networkx in ./ve/lib64/python3.11/site-packages (from torch>=1.12->mace-torch) (3.3)\n",
      "Requirement already satisfied: jinja2 in ./ve/lib64/python3.11/site-packages (from torch>=1.12->mace-torch) (3.1.4)\n",
      "Requirement already satisfied: fsspec in ./ve/lib64/python3.11/site-packages (from torch>=1.12->mace-torch) (2024.6.0)\n",
      "Requirement already satisfied: nvidia-cuda-nvrtc-cu12==12.1.105 in ./ve/lib64/python3.11/site-packages (from torch>=1.12->mace-torch) (12.1.105)\n",
      "Requirement already satisfied: nvidia-cuda-runtime-cu12==12.1.105 in ./ve/lib64/python3.11/site-packages (from torch>=1.12->mace-torch) (12.1.105)\n",
      "Requirement already satisfied: nvidia-cuda-cupti-cu12==12.1.105 in ./ve/lib64/python3.11/site-packages (from torch>=1.12->mace-torch) (12.1.105)\n",
      "Requirement already satisfied: nvidia-cudnn-cu12==8.9.2.26 in ./ve/lib64/python3.11/site-packages (from torch>=1.12->mace-torch) (8.9.2.26)\n",
      "Requirement already satisfied: nvidia-cublas-cu12==12.1.3.1 in ./ve/lib64/python3.11/site-packages (from torch>=1.12->mace-torch) (12.1.3.1)\n",
      "Requirement already satisfied: nvidia-cufft-cu12==11.0.2.54 in ./ve/lib64/python3.11/site-packages (from torch>=1.12->mace-torch) (11.0.2.54)\n",
      "Requirement already satisfied: nvidia-curand-cu12==10.3.2.106 in ./ve/lib64/python3.11/site-packages (from torch>=1.12->mace-torch) (10.3.2.106)\n",
      "Requirement already satisfied: nvidia-cusolver-cu12==11.4.5.107 in ./ve/lib64/python3.11/site-packages (from torch>=1.12->mace-torch) (11.4.5.107)\n",
      "Requirement already satisfied: nvidia-cusparse-cu12==12.1.0.106 in ./ve/lib64/python3.11/site-packages (from torch>=1.12->mace-torch) (12.1.0.106)\n",
      "Requirement already satisfied: nvidia-nccl-cu12==2.20.5 in ./ve/lib64/python3.11/site-packages (from torch>=1.12->mace-torch) (2.20.5)\n",
      "Requirement already satisfied: nvidia-nvtx-cu12==12.1.105 in ./ve/lib64/python3.11/site-packages (from torch>=1.12->mace-torch) (12.1.105)\n",
      "Requirement already satisfied: triton==2.3.0 in ./ve/lib64/python3.11/site-packages (from torch>=1.12->mace-torch) (2.3.0)\n",
      "Requirement already satisfied: nvidia-nvjitlink-cu12 in ./ve/lib64/python3.11/site-packages (from nvidia-cusolver-cu12==11.4.5.107->torch>=1.12->mace-torch) (12.5.40)\n",
      "Requirement already satisfied: contourpy>=1.0.1 in ./ve/lib64/python3.11/site-packages (from matplotlib->mace-torch) (1.2.1)\n",
      "Requirement already satisfied: cycler>=0.10 in ./ve/lib64/python3.11/site-packages (from matplotlib->mace-torch) (0.12.1)\n",
      "Requirement already satisfied: fonttools>=4.22.0 in ./ve/lib64/python3.11/site-packages (from matplotlib->mace-torch) (4.53.0)\n",
      "Requirement already satisfied: kiwisolver>=1.3.1 in ./ve/lib64/python3.11/site-packages (from matplotlib->mace-torch) (1.4.5)\n",
      "Requirement already satisfied: packaging>=20.0 in ./ve/lib64/python3.11/site-packages (from matplotlib->mace-torch) (24.0)\n",
      "Requirement already satisfied: pillow>=8 in ./ve/lib64/python3.11/site-packages (from matplotlib->mace-torch) (10.3.0)\n",
      "Requirement already satisfied: pyparsing>=2.3.1 in ./ve/lib64/python3.11/site-packages (from matplotlib->mace-torch) (3.1.2)\n",
      "Requirement already satisfied: python-dateutil>=2.7 in ./ve/lib64/python3.11/site-packages (from matplotlib->mace-torch) (2.9.0.post0)\n",
      "Requirement already satisfied: looseversion in ./ve/lib64/python3.11/site-packages (from matscipy->mace-torch) (1.3.0)\n",
      "Requirement already satisfied: pytz>=2020.1 in ./ve/lib64/python3.11/site-packages (from pandas->mace-torch) (2024.1)\n",
      "Requirement already satisfied: tzdata>=2022.7 in ./ve/lib64/python3.11/site-packages (from pandas->mace-torch) (2024.1)\n",
      "Requirement already satisfied: wcwidth in ./ve/lib64/python3.11/site-packages (from prettytable->mace-torch) (0.2.13)\n",
      "Requirement already satisfied: six>=1.5 in ./ve/lib64/python3.11/site-packages (from python-dateutil>=2.7->matplotlib->mace-torch) (1.16.0)\n",
      "Requirement already satisfied: MarkupSafe>=2.0 in ./ve/lib64/python3.11/site-packages (from jinja2->torch>=1.12->mace-torch) (2.1.5)\n",
      "Requirement already satisfied: mpmath<1.4.0,>=1.1.0 in ./ve/lib64/python3.11/site-packages (from sympy->e3nn==0.4.4->mace-torch) (1.3.0)\n",
      "\n",
      "\u001b[1m[\u001b[0m\u001b[34;49mnotice\u001b[0m\u001b[1;39;49m]\u001b[0m\u001b[39;49m A new release of pip is available: \u001b[0m\u001b[31;49m24.0\u001b[0m\u001b[39;49m -> \u001b[0m\u001b[32;49m24.1.1\u001b[0m\n",
      "\u001b[1m[\u001b[0m\u001b[34;49mnotice\u001b[0m\u001b[1;39;49m]\u001b[0m\u001b[39;49m To update, run: \u001b[0m\u001b[32;49mpip install --upgrade pip\u001b[0m\n"
     ]
    }
   ],
   "source": [
    "!pip install mace-torch ase"
   ]
  },
  {
   "cell_type": "code",
   "execution_count": null,
   "id": "ea484cb8-73e2-481e-9164-d09a2889d660",
   "metadata": {},
   "outputs": [],
   "source": []
  }
 ],
 "metadata": {
  "kernelspec": {
   "display_name": "Python 3 (ipykernel)",
   "language": "python",
   "name": "python3"
  },
  "language_info": {
   "codemirror_mode": {
    "name": "ipython",
    "version": 3
   },
   "file_extension": ".py",
   "mimetype": "text/x-python",
   "name": "python",
   "nbconvert_exporter": "python",
   "pygments_lexer": "ipython3",
   "version": "3.11.9"
  }
 },
 "nbformat": 4,
 "nbformat_minor": 5
}
